{
 "cells": [
  {
   "cell_type": "markdown",
   "metadata": {},
   "source": [
    "# Data Manipulation and Visualization Revisited: Back to Broadway\n",
    "Let's practice combining the skills you have developed so far. In this exercise we will take some of the familiar dataframe and plotting methods we have learned and combine them with loops to automate some tasks that would take quite a bit of time to produce without programming."
   ]
  },
  {
   "cell_type": "code",
   "execution_count": null,
   "metadata": {},
   "outputs": [],
   "source": [
    "# standard imports\n",
    "import pandas as pd\n",
    "import matplotlib.pyplot as plt\n",
    "\n",
    "df = pd.read_csv('broadway.csv')\n",
    "df.head()"
   ]
  },
  {
   "cell_type": "markdown",
   "metadata": {},
   "source": [
    "## 1. Longest Running Productions\n",
    "Find the 10 most common Broadway productions in the dataset. Assign the names of these productions to a list called 'playlist'. Do not hard code the list. \n",
    "\n",
    "Hint 1: value_counts() returns a series. You can sort and index into that series just like you would with a series inside a dataframe.\n",
    "\n",
    "Hint 2: a series object has an attribute .index that can be used to get index values\n",
    "\n",
    "#### Optional coding challenging: \n",
    "Do the task above in a single line of code."
   ]
  },
  {
   "cell_type": "code",
   "execution_count": null,
   "metadata": {},
   "outputs": [],
   "source": [
    "# enter and test your code here"
   ]
  },
  {
   "cell_type": "markdown",
   "metadata": {},
   "source": [
    "## 2. Automating Visualizations\n",
    "Use 'playlist', 'df', and a for loop to generate line plots of average gross revenue BY YEAR for each of the top 10 plays seperately. \n",
    "Your for loop should include the nae of the play in the title of the chart. Your for loop should produce 10 plots in total.\n",
    "\n",
    "Hint 1: the raw dataframe is not currently structured in a way that you can solve this task using the tools that you know. Think about how you need to transform the dataframe to get what you want. Your solution will most likely require both `groupby()`, `query()`, and some string formatting.\n",
    "\n",
    "Hint 2: if you are having trouble working with the dataframe returned by a groupby aggregation, `reset_index()` might get things back to a more familiar state"
   ]
  },
  {
   "cell_type": "code",
   "execution_count": null,
   "metadata": {},
   "outputs": [],
   "source": [
    "# enter and test your code here"
   ]
  },
  {
   "cell_type": "markdown",
   "metadata": {},
   "source": [
    "## 3. Reusing Code, Part 1\n",
    "Once you've developed code to solve a problem, you can often reuse it to solve related problems. Use the code from Problems 1 and 2 to find and visualize the the relation between year of production and average gross revenue for the top 10 broadway productions that are NOT musicals.  "
   ]
  },
  {
   "cell_type": "code",
   "execution_count": null,
   "metadata": {},
   "outputs": [],
   "source": [
    "# enter and test your code here"
   ]
  },
  {
   "cell_type": "markdown",
   "metadata": {},
   "source": [
    "## 4. Reusing Code, Part 2\n",
    "Skip this is you have not completed the SimpleLinearRegression assignment.\n",
    "\n",
    "Often a function or class written to solve a different problem can be resused to solve a new problem.\n",
    "Use your SimpleLinearRegression class and a for loop to visualize the simple linear regression line describing the association between year and average gross revenue for ten plays of your choosing.\n",
    "\n",
    "#### Optional coding challenge:\n",
    "Complete the problem above for the 10 lowest grossing musicals between the year 2000 and 2010."
   ]
  },
  {
   "cell_type": "code",
   "execution_count": null,
   "metadata": {},
   "outputs": [],
   "source": [
    "# enter and test your code here"
   ]
  }
 ],
 "metadata": {
  "kernelspec": {
   "display_name": "Python 3",
   "language": "python",
   "name": "python3"
  },
  "language_info": {
   "codemirror_mode": {
    "name": "ipython",
    "version": 3
   },
   "file_extension": ".py",
   "mimetype": "text/x-python",
   "name": "python",
   "nbconvert_exporter": "python",
   "pygments_lexer": "ipython3",
   "version": "3.6.5"
  }
 },
 "nbformat": 4,
 "nbformat_minor": 2
}
