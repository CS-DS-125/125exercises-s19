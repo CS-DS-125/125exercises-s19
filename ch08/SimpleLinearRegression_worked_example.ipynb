{
 "cells": [
  {
   "cell_type": "markdown",
   "metadata": {},
   "source": [
    "# Simple Linear Regression"
   ]
  },
  {
   "cell_type": "markdown",
   "metadata": {},
   "source": [
    "How to calculate and visualize a best-fit line using [Simple Linear Regression](https://en.wikipedia.org/wiki/Simple_linear_regression)."
   ]
  },
  {
   "cell_type": "markdown",
   "metadata": {},
   "source": [
    "### Imports"
   ]
  },
  {
   "cell_type": "code",
   "execution_count": 1,
   "metadata": {},
   "outputs": [],
   "source": [
    "import pandas as pd\n",
    "import matplotlib.pyplot as plt"
   ]
  },
  {
   "cell_type": "markdown",
   "metadata": {},
   "source": [
    "### Read in some data (Broadway data set)"
   ]
  },
  {
   "cell_type": "code",
   "execution_count": 2,
   "metadata": {},
   "outputs": [
    {
     "name": "stdout",
     "output_type": "stream",
     "text": [
      "<class 'pandas.core.frame.DataFrame'>\n",
      "RangeIndex: 31296 entries, 0 to 31295\n",
      "Data columns (total 12 columns):\n",
      "Attendance         31296 non-null int64\n",
      "Capacity           31296 non-null int64\n",
      "Day                31296 non-null int64\n",
      "Full               31296 non-null object\n",
      "Gross              31296 non-null int64\n",
      "Gross Potential    31296 non-null int64\n",
      "Month              31296 non-null int64\n",
      "Name               31296 non-null object\n",
      "Performances       31296 non-null int64\n",
      "Theatre            31296 non-null object\n",
      "Type               31296 non-null object\n",
      "Year               31296 non-null int64\n",
      "dtypes: int64(8), object(4)\n",
      "memory usage: 2.9+ MB\n"
     ]
    }
   ],
   "source": [
    "df = pd.read_csv(\"broadway.csv\")\n",
    "df.info()"
   ]
  },
  {
   "cell_type": "markdown",
   "metadata": {},
   "source": [
    "## Linear Regression for Attendance and Gross (revenue)"
   ]
  },
  {
   "cell_type": "markdown",
   "metadata": {},
   "source": [
    "First, we can get the data we want to use into individual column (Series) variables."
   ]
  },
  {
   "cell_type": "code",
   "execution_count": 3,
   "metadata": {},
   "outputs": [
    {
     "data": {
      "text/plain": [
       "0     5500\n",
       "1     1737\n",
       "2    12160\n",
       "3    13921\n",
       "4    10973\n",
       "Name: Attendance, dtype: int64"
      ]
     },
     "execution_count": 3,
     "metadata": {},
     "output_type": "execute_result"
    }
   ],
   "source": [
    "attendance = df[\"Attendance\"]\n",
    "attendance.head()"
   ]
  },
  {
   "cell_type": "code",
   "execution_count": 4,
   "metadata": {},
   "outputs": [
    {
     "data": {
      "text/plain": [
       "0    134456\n",
       "1    100647\n",
       "2    634424\n",
       "3    713353\n",
       "4    573981\n",
       "Name: Gross, dtype: int64"
      ]
     },
     "execution_count": 4,
     "metadata": {},
     "output_type": "execute_result"
    }
   ],
   "source": [
    "gross = df[\"Gross\"]\n",
    "gross.head()"
   ]
  },
  {
   "cell_type": "markdown",
   "metadata": {},
   "source": [
    "## Compute slope and intercept"
   ]
  },
  {
   "cell_type": "markdown",
   "metadata": {},
   "source": [
    "*[Formulas thanks to Wikipedia.]*\n",
    "\n",
    "$$\n",
    "slope = \\frac{\\mbox{Cov}(X, Y)}{\\mbox{Var}(X)}\n",
    "$$\n",
    "\n",
    "Cov() is \"covariance,\" while Var() is \"variance.\"  Both can be computed using methods available on any Pandas column (aka Series object)."
   ]
  },
  {
   "cell_type": "code",
   "execution_count": 5,
   "metadata": {},
   "outputs": [
    {
     "data": {
      "text/plain": [
       "94.02750409318983"
      ]
     },
     "execution_count": 5,
     "metadata": {},
     "output_type": "execute_result"
    }
   ],
   "source": [
    "slope = attendance.cov(gross) / attendance.var()\n",
    "slope"
   ]
  },
  {
   "cell_type": "markdown",
   "metadata": {},
   "source": [
    "$$\n",
    "intercept = \\mbox{mean}(Y) - slope \\cdot \\mbox{mean}(X)\n",
    "$$\n",
    "\n",
    "mean() (average) is also a method we can call on a Pandas column."
   ]
  },
  {
   "cell_type": "code",
   "execution_count": 6,
   "metadata": {},
   "outputs": [
    {
     "data": {
      "text/plain": [
       "-157140.67106568743"
      ]
     },
     "execution_count": 6,
     "metadata": {},
     "output_type": "execute_result"
    }
   ],
   "source": [
    "intercept = gross.mean() - slope * attendance.mean()\n",
    "intercept"
   ]
  },
  {
   "cell_type": "markdown",
   "metadata": {},
   "source": [
    "## Checking the work via **visualization**"
   ]
  },
  {
   "cell_type": "markdown",
   "metadata": {},
   "source": [
    "We can visualize the prediction line, overlaying it on the original data, in order to both check our work and to gain some insights into the data.\n",
    "\n",
    "We can plot an arbitrary line using Matplotlib as long as we can give it two points on the line; the `plt.plot()` method will draw a line segment between the two points."
   ]
  },
  {
   "cell_type": "code",
   "execution_count": 7,
   "metadata": {},
   "outputs": [
    {
     "name": "stdout",
     "output_type": "stream",
     "text": [
      "(x1=0, y1=-157140.67106568743)  (x2=21631, y2=1876768.2699741018)\n"
     ]
    }
   ],
   "source": [
    "# Make two points on the best-fit line to chart it\n",
    "\n",
    "# The first point can be at x=0, where we know the y-value is the line's intercept.\n",
    "x1 = 0\n",
    "y1 = intercept\n",
    "\n",
    "# The second point can be based on maximum x value of Attendance,\n",
    "# and its y-value is whatever the linear regression predicts (using y=mx+b).\n",
    "x2 = attendance.max()\n",
    "y2 = slope*x2 + intercept\n",
    "\n",
    "print(\"(x1={}, y1={})  (x2={}, y2={})\".format(x1, y1, x2, y2))"
   ]
  },
  {
   "cell_type": "code",
   "execution_count": 8,
   "metadata": {},
   "outputs": [
    {
     "data": {
      "image/png": "[encoded data removed]",
      "text/plain": [
       "<Figure size 432x288 with 1 Axes>"
      ]
     },
     "metadata": {
      "needs_background": "light"
     },
     "output_type": "display_data"
    }
   ],
   "source": [
    "# Plot the original data in a scatter plot\n",
    "plt.scatter(attendance, gross, alpha=0.2, s=1)\n",
    "# Plot a red line through (x1,y1) and (x2,y2), overlaid on top of the scatterplot\n",
    "plt.plot([x1, x2], [y1, y2], 'r')\n",
    "plt.xlabel(\"Attendance\")\n",
    "plt.ylabel(\"Gross\")\n",
    "plt.show()"
   ]
  }
 ],
 "metadata": {
  "kernelspec": {
   "display_name": "Python 3",
   "language": "python",
   "name": "python3"
  },
  "language_info": {
   "codemirror_mode": {
    "name": "ipython",
    "version": 3
   },
   "file_extension": ".py",
   "mimetype": "text/x-python",
   "name": "python",
   "nbconvert_exporter": "python",
   "pygments_lexer": "ipython3",
   "version": "3.6.5"
  }
 },
 "nbformat": 4,
 "nbformat_minor": 2
}
