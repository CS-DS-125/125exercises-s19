{
 "cells": [
  {
   "cell_type": "markdown",
   "metadata": {},
   "source": [
    "# Guppies\n",
    "\n",
    "Author: CS/DS 125\n",
    "\n",
    "Date: Jan, 2019\n",
    "\n",
    "Description: A simple betting game"
   ]
  },
  {
   "cell_type": "code",
   "execution_count": null,
   "metadata": {},
   "outputs": [
    {
     "name": "stdout",
     "output_type": "stream",
     "text": [
      "Welcome to Guppies!  (It's a betting game.)\n",
      "You currently have 100 galleons.\n"
     ]
    },
    {
     "name": "stdin",
     "output_type": "stream",
     "text": [
      "Please enter your bet:  9999999\n",
      "Invalid bet!  Please enter another bet:  999999999\n",
      "Invalid bet!  Please enter another bet:  -99999999\n"
     ]
    },
    {
     "name": "stdout",
     "output_type": "stream",
     "text": [
      "The first number is 3\n"
     ]
    },
    {
     "name": "stdin",
     "output_type": "stream",
     "text": [
      "Please enter your guess, (L)ower or (H)igher:  L\n"
     ]
    },
    {
     "name": "stdout",
     "output_type": "stream",
     "text": [
      "The second number is 7\n",
      "Your guess was wrong!\n",
      "You currently have 100000099 galleons.\n"
     ]
    }
   ],
   "source": [
    "# import the random library\n",
    "import random\n",
    "\n",
    "# Print a greeting / explanation\n",
    "print(\"Welcome to Guppies!  (It's a betting game.)\")\n",
    "\n",
    "# Initialize the user's money\n",
    "galleons = 100\n",
    "\n",
    "while True:\n",
    "    # Tell them how much money they have\n",
    "    print(\"You currently have\", galleons, \"galleons.\")\n",
    "\n",
    "    # Ask the user for their bet\n",
    "    bet = int(input(\"Please enter your bet: \"))\n",
    "    \n",
    "    # Check for a valid bet (repeatedly, *until* it is valid)\n",
    "    while bet > galleons:\n",
    "        bet = int(input(\"Invalid bet!  Please enter another bet: \")) \n",
    "\n",
    "    # Generate and display a random number between 1 and 10\n",
    "    first_rand = random.randint(1, 10)\n",
    "    print(\"The first number is\", first_rand)\n",
    "\n",
    "    # Ask the user for their guess (higher or lower)\n",
    "    guess = input(\"Please enter your guess, (L)ower or (H)igher: \")\n",
    "\n",
    "    # Generate and display a second random number between 1 and 10\n",
    "    second_rand = random.randint(1, 10)\n",
    "    print(\"The second number is\", second_rand)\n",
    "\n",
    "    # Check whether their guess is correct, tell them\n",
    "    # Add or subtract bet based on guess correctness\n",
    "    if (guess == \"H\" and second_rand > first_rand) \\\n",
    "       or (guess == \"L\" and second_rand < first_rand):\n",
    "            print(\"Your guess was correct!\")\n",
    "            galleons = galleons + bet\n",
    "    else:\n",
    "        print(\"Your guess was wrong!\")\n",
    "        galleons = galleons - bet\n",
    "\n",
    "    # Repeat. (Automatically accomplished by while loop.)\n"
   ]
  }
 ],
 "metadata": {
  "kernelspec": {
   "display_name": "Python 3",
   "language": "python",
   "name": "python3"
  },
  "language_info": {
   "codemirror_mode": {
    "name": "ipython",
    "version": 3
   },
   "file_extension": ".py",
   "mimetype": "text/x-python",
   "name": "python",
   "nbconvert_exporter": "python",
   "pygments_lexer": "ipython3",
   "version": "3.6.5"
  }
 },
 "nbformat": 4,
 "nbformat_minor": 2
}
