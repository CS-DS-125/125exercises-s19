{
 "cells": [
  {
   "cell_type": "markdown",
   "metadata": {},
   "source": [
    "# Guppies\n",
    "\n",
    "Author: CS/DS 125\n",
    "\n",
    "Date: Jan, 2019\n",
    "\n",
    "Description: A simple betting game"
   ]
  },
  {
   "cell_type": "code",
   "execution_count": 12,
   "metadata": {},
   "outputs": [
    {
     "name": "stdout",
     "output_type": "stream",
     "text": [
      "Welcome to Guppies!  (It's a betting game.)\n",
      "You currently have 100 galleons.\n"
     ]
    },
    {
     "name": "stdin",
     "output_type": "stream",
     "text": [
      "Please enter your bet:  50\n"
     ]
    },
    {
     "name": "stdout",
     "output_type": "stream",
     "text": [
      "The first number is 2\n"
     ]
    }
   ],
   "source": [
    "# import the random library\n",
    "import random\n",
    "\n",
    "# Print a greeting / explanation\n",
    "print(\"Welcome to Guppies!  (It's a betting game.)\")\n",
    "\n",
    "# Initialize the user's money\n",
    "galleons = 100\n",
    "\n",
    "# Tell them how much money they have\n",
    "print(\"You currently have\", galleons, \"galleons.\")\n",
    "\n",
    "# Ask the user for their bet\n",
    "bet = int(input(\"Please enter your bet: \"))\n",
    "\n",
    "# Generate and display a random number between 1 and 10\n",
    "first_rand = random.randint(1, 10)\n",
    "print(\"The first number is\", first_rand)\n",
    "\n",
    "# Ask the user for their guess (higher or lower)\n",
    "\n",
    "# Generate and display a second random number between 1 and 10\n",
    "\n",
    "# Check whether their guess is correct, tell them\n",
    "\n",
    "# Add or subtract bet based on guess correctness\n",
    "\n",
    "# Tell them how much money they have\n",
    "\n",
    "# Repeat.\n"
   ]
  }
 ],
 "metadata": {
  "kernelspec": {
   "display_name": "Python 3",
   "language": "python",
   "name": "python3"
  },
  "language_info": {
   "codemirror_mode": {
    "name": "ipython",
    "version": 3
   },
   "file_extension": ".py",
   "mimetype": "text/x-python",
   "name": "python",
   "nbconvert_exporter": "python",
   "pygments_lexer": "ipython3",
   "version": "3.6.5"
  }
 },
 "nbformat": 4,
 "nbformat_minor": 2
}
