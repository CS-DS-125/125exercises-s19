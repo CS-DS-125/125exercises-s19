{
 "cells": [
  {
   "cell_type": "markdown",
   "metadata": {},
   "source": [
    "# Exploring Data from 311 Service Calls in Chicago\n",
    "\n",
    "On the [Chicago Data Portal](https://data.cityofchicago.org/), the city of Chicago provides a wealth of data about the city and its governance.  One of the many datasets available catalogs 311 service calls (311 is a telephone number through which the city provides non-emergency services), and of the many collections of data within that broader set, we can find a list of [service requests regarding abandoned vehicles](https://data.cityofchicago.org/Service-Requests/311-Service-Requests-Abandoned-Vehicles-No-Duplica/atid-bgws) collected since 2011.\n",
    "\n",
    "In this exercise, we will work together as a class to explore this data and possibly, if there is time, answer such pressing questions as \"What is the most popular color for abandoned cars in Chicago?\" and \"Ford or Chevy: which is abandoned more?\""
   ]
  },
  {
   "cell_type": "markdown",
   "metadata": {},
   "source": [
    "***"
   ]
  },
  {
   "cell_type": "markdown",
   "metadata": {},
   "source": [
    "The data is provided in a file named: `311_Service_Requests_-_Abandoned_Vehicles_-_No_Duplicates.csv`\n",
    "\n",
    "First, we have a bit of code to read the contents of the file into a single string:"
   ]
  },
  {
   "cell_type": "code",
   "execution_count": null,
   "metadata": {},
   "outputs": [],
   "source": [
    "with open(\"311_Service_Requests_-_Abandoned_Vehicles_-_No_Duplicates.csv\") as f:\n",
    "    file_contents = f.read()"
   ]
  },
  {
   "cell_type": "markdown",
   "metadata": {},
   "source": [
    "Now it's up to us to dig into this data using the tools we're studying for manipulating strings and lists.\n",
    "\n",
    "We'll create cells below to explore the data."
   ]
  },
  {
   "cell_type": "markdown",
   "metadata": {},
   "source": [
    "***"
   ]
  }
 ],
 "metadata": {
  "kernelspec": {
   "display_name": "Python 3",
   "language": "python",
   "name": "python3"
  },
  "language_info": {
   "codemirror_mode": {
    "name": "ipython",
    "version": 3
   },
   "file_extension": ".py",
   "mimetype": "text/x-python",
   "name": "python",
   "nbconvert_exporter": "python",
   "pygments_lexer": "ipython3",
   "version": "3.6.5"
  }
 },
 "nbformat": 4,
 "nbformat_minor": 2
}
