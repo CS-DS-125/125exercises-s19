{
 "cells": [
  {
   "cell_type": "markdown",
   "metadata": {},
   "source": [
    "# String Manipulations: Names to Emails\n",
    "\n",
    "IWU usernames and email addresses are created from student, faculty, and staff names following a specific pattern.  The username is the first letter of the first name plus up to seven letters of the last name.  It's safe to assume there is a program somewhere generating these automatically, and this exercise sets out to replicate it.\n",
    "\n",
    "Goals:\n",
    " * Practice string manipulations using string operators and string methods (see [Section 5.1](https://snakebear.science/05-StringsListsAndFiles/Strings.html))\n",
    " * Further practice defining and using functions (see [Section 4.3](https://snakebear.science/04-Functions/FunctionDefinitions.html))"
   ]
  },
  {
   "cell_type": "markdown",
   "metadata": {},
   "source": [
    "## Part 1: The simplest version\n",
    "\n",
    "To start, we can write a simple version of the program.  It can ask the user to type in their first and last names separately and build an IWU email address directly from the two strings.\n",
    "\n",
    "For example:\n",
    "\n",
    "```\n",
    "Please enter your first name: Mark\n",
    "Please enter you last name: Liffiton\n",
    "\n",
    "Your email address is MLiffito@iwu.edu.\n",
    "```\n",
    "\n",
    "You'll need to use *indexing*, *slicing*, and *concatenation* to make the email address.  *String formatting* will be the best way to print the final line (with no space before the period)."
   ]
  },
  {
   "cell_type": "code",
   "execution_count": null,
   "metadata": {},
   "outputs": [],
   "source": [
    "# Write and test your code here."
   ]
  },
  {
   "cell_type": "markdown",
   "metadata": {},
   "source": [
    "## Part 2: Handling more cases and making it lowercase\n",
    "\n",
    "But what if we only have someone's full name as a single string, or what if we don't want to bother the user *twice* to ask for each part of their name separately?  That will take a bit more work.  And the email address is usually written in lowercase, so let's do that, too.\n",
    "\n",
    "For example:\n",
    "\n",
    "```\n",
    "Please enter your full name:  Mark Liffiton\n",
    "\n",
    "Your email address is mliffito@iwu.edu.\n",
    "```\n",
    "\n",
    "Write an improved version of the email generating code that:\n",
    "1. asks the user to enter their full name as a single string, and\n",
    "2. ensures that the email address is printed all in lower case.\n",
    "\n",
    "For this, you'll need to use the `split()` and `lower()` string methods *[documentation: [split()](https://docs.python.org/3/library/stdtypes.html#str.split), [lower()](https://docs.python.org/3/library/stdtypes.html#str.lower)]*, in addition to indexing, slicing, and concatenation as before.\n",
    "\n",
    "`split()` will give you back a list of the separate words in a string.  *[While working on this, I'd suggest printing out whatever you get from `split()` so you have something concrete to think about.]*  With any list, you can use indexing on it just like you can on a string.  Both are *sequences*, so indexing, slicing, concatenation, ... a lot of the operations apply equivalently to both!"
   ]
  },
  {
   "cell_type": "code",
   "execution_count": null,
   "metadata": {},
   "outputs": [],
   "source": [
    "# Write and test your code here."
   ]
  },
  {
   "cell_type": "markdown",
   "metadata": {},
   "source": [
    "## Part 3: Even more cases to handle\n",
    "\n",
    "Some people have middle names, and some people have hyphens or other punctuation in their last names!  Our program should really handle that correctly.  Data doesn't always arrive in the simplest possible format, and we often have to handle a variety of cases.\n",
    "\n",
    "For example:\n",
    "\n",
    "```\n",
    "Please enter your full name:  Muhammad ibn Musa al-Khwarizmi\n",
    "\n",
    "Your email address is malkhwar@iwu.edu.\n",
    "```\n",
    "\n",
    "*[[Muhammad ibn Musa al-Khwarizmi](https://en.wikipedia.org/wiki/Muhammad_ibn_Musa_al-Khwarizmi) was a 9th century Persian scholar whose name is the origin of the word \"algorithm.\"]*\n",
    "\n",
    "Write an improved version of the email generating code that:\n",
    "1. asks the user to enter their full name as a single string,\n",
    "2. works correctly no matter how many names are written between the first and last name,\n",
    "3. removes any hyphens from the name, and\n",
    "4. ensures that the email address is printed all in lower case.\n",
    "\n",
    "For this, you'll need to figure out how to get the *last* element from a list no matter how many elements are in it, and you'll probably want to use the `replace()` string function to remove hyphens *[[documentation](https://docs.python.org/3/library/stdtypes.html#str.replace); the \"new\" argument can be an empty string to remove instead of replacing]*."
   ]
  },
  {
   "cell_type": "code",
   "execution_count": null,
   "metadata": {},
   "outputs": [],
   "source": [
    "# Write and test your code here."
   ]
  },
  {
   "cell_type": "markdown",
   "metadata": {},
   "source": [
    "## Part 4: Make it reusable\n",
    "\n",
    "The code above helps automate the process of generating email addresses, but we probably don't want someone typing in each name one at a time.  More likely, a list of names will be provided, and we will want to produce usernames for all of them at once.  To do this, we should put the code that creates an email address in a **function**.\n",
    "\n",
    "Write a function in the cell below called `make_email()` that takes a **single argument**: a string containing a person's full name.  The function should **return** a string containing the IWU email address for that name.  The following cell contains code that will test your function once you have defined it."
   ]
  },
  {
   "cell_type": "code",
   "execution_count": null,
   "metadata": {},
   "outputs": [],
   "source": [
    "# Define your make_email() function here."
   ]
  },
  {
   "cell_type": "markdown",
   "metadata": {},
   "source": [
    "Executing the cell below will test `make_email()` once it is defined by calling it on a few names and checking that the return value is correct."
   ]
  },
  {
   "cell_type": "code",
   "execution_count": null,
   "metadata": {
    "editable": false
   },
   "outputs": [],
   "source": [
    "# Test make_email() [do not modify]\n",
    "email1 = make_email(\"Mark Liffiton\")\n",
    "if email1 == \"mliffito@iwu.edu\":\n",
    "    print(\"email1: ✔️\")\n",
    "else:\n",
    "    print(\"email1 incorrect, got {}, not mliffito@iwu.edu.\".format(email1))\n",
    "\n",
    "email2 = make_email(\"Muhammad ibn Musa al-Khwarizmi\")\n",
    "if email2 == \"malkhwar@iwu.edu\":\n",
    "    print(\"email2: ✔️\")\n",
    "else:\n",
    "    print(\"email2 incorrect, got {}, not malkhwar@iwu.edu.\".format(email2))"
   ]
  },
  {
   "cell_type": "markdown",
   "metadata": {},
   "source": [
    "## Part 5: Use it on a list\n",
    "\n",
    "The last step is to see how we might use a function like this in practice.  The cell below defines a list of names called `namelist`.  Using a for loop and the `make_email()` function, print out the IWU email address for every person in the list."
   ]
  },
  {
   "cell_type": "code",
   "execution_count": null,
   "metadata": {},
   "outputs": [],
   "source": [
    "# All names generated by https://www.behindthename.com/\n",
    "namelist = [\n",
    "    \"Irenka Boutros Germund Beorhtric Rosário\",\n",
    "    \"Harsha Nannini\",\n",
    "    \"Arkadios Apted\",\n",
    "    \"Swanhilde Yonina Bennett\",\n",
    "    \"Kumar Hasan McGill\",\n",
    "    \"Iolo Orson Lughaidh Demi Adam\"\n",
    "]\n",
    "\n",
    "# Write your loop below."
   ]
  }
 ],
 "metadata": {
  "kernelspec": {
   "display_name": "Python 3",
   "language": "python",
   "name": "python3"
  },
  "language_info": {
   "codemirror_mode": {
    "name": "ipython",
    "version": 3
   },
   "file_extension": ".py",
   "mimetype": "text/x-python",
   "name": "python",
   "nbconvert_exporter": "python",
   "pygments_lexer": "ipython3",
   "version": "3.6.5"
  }
 },
 "nbformat": 4,
 "nbformat_minor": 2
}
