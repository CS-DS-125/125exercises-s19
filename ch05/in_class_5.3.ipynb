{
 "cells": [
  {
   "cell_type": "markdown",
   "metadata": {},
   "source": [
    "# Exploring Data from 311 Service Calls in Chicago\n",
    "\n",
    "*[Repeated from last time: On the [Chicago Data Portal](https://data.cityofchicago.org/), the city of Chicago provides a wealth of data about the city and its governance.  One of the many datasets available catalogs 311 service calls (311 is a telephone number through which the city provides non-emergency services), and of the many collections of data within that broader set, we can find a list of [service requests regarding abandoned vehicles](https://data.cityofchicago.org/Service-Requests/311-Service-Requests-Abandoned-Vehicles-No-Duplica/atid-bgws) collected since 2011.]*\n",
    "\n",
    "In this exercise, you will work through guided steps to further explore and analyze the 311 data.  Much of this will be similar to work done in the previous class (you can see it in `in_class_5.2_worked.ipynb`).\n",
    "\n",
    "Look for `#TODO` comments in cells for places where you should write code.\n",
    "\n",
    "This exercise is structured so that you will create variables with partially-processed data and use those variables in later cells to do further analysis.  Remember: once you create a variable in one cell, it can be used in any other cell."
   ]
  },
  {
   "cell_type": "markdown",
   "metadata": {},
   "source": [
    "***"
   ]
  },
  {
   "cell_type": "markdown",
   "metadata": {},
   "source": [
    "The data is provided in a file that has been copied into this directory: `311_Service_Requests_-_Abandoned_Vehicles_-_No_Duplicates.csv`.  First, we have a bit of code to read the contents of the file into a single string:"
   ]
  },
  {
   "cell_type": "code",
   "execution_count": null,
   "metadata": {
    "editable": false
   },
   "outputs": [],
   "source": [
    "with open(\"311_Service_Requests_-_Abandoned_Vehicles_-_No_Duplicates.csv\") as f:\n",
    "    file_contents = f.read()"
   ]
  },
  {
   "cell_type": "markdown",
   "metadata": {},
   "source": [
    "After executing that cell, `file_contents` will be a single string containing the complete contents of the file.\n",
    "\n",
    "Verify that it loaded correctly by printing the first 1000 characters of the string.  (Don't print the whole thing!  It's far too long.)"
   ]
  },
  {
   "cell_type": "code",
   "execution_count": null,
   "metadata": {},
   "outputs": [],
   "source": [
    "# TODO"
   ]
  },
  {
   "cell_type": "markdown",
   "metadata": {},
   "source": [
    "***"
   ]
  },
  {
   "cell_type": "markdown",
   "metadata": {},
   "source": [
    "The file contains 160,000+ rows, each one on its own line of the file.  To start, we need to separate the `file_contents` string into individual lines.  Make a list called `lines` here by splitting `file_contents` on the newline character (`'\\n'`)."
   ]
  },
  {
   "cell_type": "code",
   "execution_count": null,
   "metadata": {},
   "outputs": [],
   "source": [
    "# TODO\n",
    "\n",
    "# [Code should create a list called 'lines']"
   ]
  },
  {
   "cell_type": "markdown",
   "metadata": {},
   "source": [
    "Verify that the list contains individual lines by printing the first three elements in the list."
   ]
  },
  {
   "cell_type": "code",
   "execution_count": null,
   "metadata": {},
   "outputs": [],
   "source": [
    "# TODO"
   ]
  },
  {
   "cell_type": "markdown",
   "metadata": {},
   "source": [
    "***"
   ]
  },
  {
   "cell_type": "markdown",
   "metadata": {},
   "source": [
    "Let's try to find the average number of days a vehicle was reported parked (before being called in, I assume).  One of the column headers is \"How Many Days Has the Vehicle Been Reported as Parked?\"  We'll need to get the value in this column from each row.\n",
    "\n",
    "If you look at the header row (the first line of the file), you can see that this column will be at index **10** (given that indexes start counting from 0)."
   ]
  },
  {
   "cell_type": "markdown",
   "metadata": {},
   "source": [
    "We can define a function to get the value in that column from any given line.  Specifically, the function should:\n",
    "1. Have a single parameter, `line`, that will be a single line of the file as a string.\n",
    "2. Split the `line` parameter on the `','` character.\n",
    "3. Get the value in the resulting list at index 10.\n",
    "4. Some lines will have messy data, so a bit of filtering is needed:\n",
    "   1. Filter out any value that is an empty string (return `None` in that case).\n",
    "   2. Filter out any value that has more than 10 characters (return `None` in that case).\n",
    "5. For any values that you haven't filtered out, convert the string to an integer.\n",
    "6. Return the integer value.\n",
    "\n",
    "Name the function `get_days()`.  You can look at the `get_color()` function in `in_class_5.2_worked.py` to see how we started a similar function there."
   ]
  },
  {
   "cell_type": "code",
   "execution_count": null,
   "metadata": {},
   "outputs": [],
   "source": [
    "# TODO\n",
    "\n",
    "# [Code should define a function named \"get_days()\"]"
   ]
  },
  {
   "cell_type": "markdown",
   "metadata": {},
   "source": [
    "To test this function, call it and pass it the string below as an argument.  It should return `14`."
   ]
  },
  {
   "cell_type": "code",
   "execution_count": null,
   "metadata": {},
   "outputs": [],
   "source": [
    "test_line = \"01/02/2012,Completed,01/23/2012,12-00003795,Abandoned Vehicle Complaint,L701065,Chevrolet,Gray,FVI - Outcome,Vehicle was moved from original address requested,14,10240 S EBERHART AVE,60628,9,5,49,41\"\n",
    "\n",
    "# TODO"
   ]
  },
  {
   "cell_type": "markdown",
   "metadata": {},
   "source": [
    "***"
   ]
  },
  {
   "cell_type": "markdown",
   "metadata": {},
   "source": [
    "To calculate the average number of days parked, we will need a list of all of the \"days parked\" values.\n",
    "\n",
    "Use the `get_days()` function defined above in a for loop to get the \"days parked\" value from every line in the file and **append** each to a list called `days_list`.  (See the textbook [Section 5.2.5](https://snakebear.science/05-StringsListsAndFiles/Lists.html#index-35) for a quick example of the `.append()` list method.)\n",
    "\n",
    "Print the first few values of `days_list` to make sure it looks reasonable.  Every value should either be `None` or an integer."
   ]
  },
  {
   "cell_type": "code",
   "execution_count": null,
   "metadata": {},
   "outputs": [],
   "source": [
    "# TODO\n",
    "\n",
    "# [Code should define a list called \"days_list\"]"
   ]
  },
  {
   "cell_type": "markdown",
   "metadata": {},
   "source": [
    "***"
   ]
  },
  {
   "cell_type": "markdown",
   "metadata": {},
   "source": [
    "If you try to calculate the average of `days_list`, you will find that it contains some invalid values.  Some entries will be `None` because of how `get_days()` treated empty strings.  And some values will be strangely large while others are negative.  It is unlikely a car was parked for more than 1000 days, for example, or for -100 days, but those values show up in the data!\n",
    "\n",
    "Before calculating a correct average, then, we need to remove invalid values.\n",
    "\n",
    "First: `None` values.\n",
    "\n",
    "**Important:** Once we have created one list, it is best not to change it, because we might want to reuse that list later.  Because we are going to modify the list by removing values, we should make a **copy** of `days_list` into a new list named `days_cleaned`, and remove invalid values from the `days_cleaned` list.\n",
    "\n",
    "The code below removes `None` values (it's a bit more complex than is worth figuring out during our limited class time):\n",
    "1. First, it makes a copy of `days_list` in a new variable named `days_cleaned`.\n",
    "2. Next, it removes any `None` values from `days_cleaned` using an index variable `i` and a loop to iterate through the whole list.\n",
    "3. Then, it prints the lengths of `days_list` and `days_cleaned` to make sure a reasonable number of values has been removed (\"reasonable\" here is more than 0 and less than all of the values)."
   ]
  },
  {
   "cell_type": "code",
   "execution_count": null,
   "metadata": {},
   "outputs": [],
   "source": [
    "# Copy days_list to days_cleaned\n",
    "days_cleaned = days_list[:]\n",
    "\n",
    "# Go through the list, deleting any None values\n",
    "i = 0\n",
    "while i < len(days_cleaned):\n",
    "    if days_cleaned[i] is None:\n",
    "        del days_cleaned[i]\n",
    "    else:\n",
    "        i = i + 1\n",
    "\n",
    "# Print the original length and the \"cleaned\" length\n",
    "print(\"Original:\", len(days_list))\n",
    "print(\"Cleaned:\", len(days_cleaned))\n",
    "        \n",
    "# Print the first ten values of the \"cleaned\" list.\n",
    "print(days_cleaned[:10])"
   ]
  },
  {
   "cell_type": "markdown",
   "metadata": {},
   "source": [
    "Next, we need to remove negative and overly-large values from `days_cleaned`.\n",
    "\n",
    "One way to do this is to:\n",
    "1. *Sort* the list using the `.sort()` list method.\n",
    "2. Look at the values at the beginning and end of the list using indexing or slicing to explore the smallest and largest values.\n",
    "3. Go *back* and modify the `get_days()` function to exclude values outside of a range we choose.\n",
    "4. Re-run the cells from when `get_days()` is defined to here to re-do the analysis with those values excluded.\n",
    "\n",
    "Use the cell below to sort `days_cleaned` and look at the values at its largest and smallest values, then modify and re-define `get_days()` based on what you see.\n",
    "\n",
    "When you come back and execute this again after changing `get_days()`, you should see more reasonable values at the ends of the sorted list."
   ]
  },
  {
   "cell_type": "code",
   "execution_count": null,
   "metadata": {},
   "outputs": [],
   "source": [
    "# TODO"
   ]
  },
  {
   "cell_type": "markdown",
   "metadata": {},
   "source": [
    "***"
   ]
  },
  {
   "cell_type": "markdown",
   "metadata": {},
   "source": [
    "Now we have a list of cleaned, correct values.  Calculate the average!\n",
    "\n",
    "You can do this a few different ways:\n",
    "1. Use a for loop.\n",
    "2. Use the `sum()` and `len()` functions.\n",
    "3. Use the `statistics.mean()` function from the `statistics` module [[documentation](https://docs.python.org/3/library/statistics.html#statistics.mean)]."
   ]
  },
  {
   "cell_type": "code",
   "execution_count": null,
   "metadata": {},
   "outputs": [],
   "source": [
    "# TODO"
   ]
  },
  {
   "cell_type": "markdown",
   "metadata": {},
   "source": [
    "***"
   ]
  },
  {
   "cell_type": "markdown",
   "metadata": {},
   "source": [
    "That's the main goal of this exercise.  If you want to go further, a next step might be to modify `get_days()` to take an additional parameter and return `None` for any lines that *don't* contain that parameter.  Then you could call, for example, `get_days(line, 'Chevrolet')` and get back numbers for only the Chevrolets (or any other make you specify).  After that modification, you can re-run the rest of the analysis, putting a different make into the argument for `get_days()` each time, to look for differences in how long different makes of cars were reported abandoned.  Have Nissans been sitting out there longer than other cars?  You can find out!"
   ]
  }
 ],
 "metadata": {
  "kernelspec": {
   "display_name": "Python 3",
   "language": "python",
   "name": "python3"
  },
  "language_info": {
   "codemirror_mode": {
    "name": "ipython",
    "version": 3
   },
   "file_extension": ".py",
   "mimetype": "text/x-python",
   "name": "python",
   "nbconvert_exporter": "python",
   "pygments_lexer": "ipython3",
   "version": "3.6.5"
  }
 },
 "nbformat": 4,
 "nbformat_minor": 2
}
