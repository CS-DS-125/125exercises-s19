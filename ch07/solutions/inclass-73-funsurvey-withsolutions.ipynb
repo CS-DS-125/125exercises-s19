{
 "cells": [
  {
   "cell_type": "markdown",
   "metadata": {},
   "source": [
    "# In Class Exercise 7.3: Fun Survey (and More Basic Practice with Dataframes)\n",
    "\n",
    "Getting started: \n",
    "\n",
    "* Results of the survey we asked the class to complete at the beginning of the semester are available here: https://docs.google.com/spreadsheets/d/1ip_dVSgO2JtStc5z8AojBUxHLpi17dtPNygNPaLgY58/edit?usp=sharing.\n",
    "* Open that file in google forms. Go to File--> Download as--> download as CSV\n",
    "* Take the downloaded file and upload it to the same folder as this notebook on JupyterLab.\n",
    "***\n",
    "## Step 1:\n",
    "* Import pandas as pd. \n",
    "* Import matplotlib.pyplot as plt\n",
    "* Use code to make your graphs look nice.\n",
    "* Read the csv file and assign the result to `df`."
   ]
  },
  {
   "cell_type": "code",
   "execution_count": null,
   "metadata": {},
   "outputs": [],
   "source": [
    "# write and test your code here"
   ]
  },
  {
   "cell_type": "markdown",
   "metadata": {},
   "source": [
    "## Step 2:\n",
    "* Check your dataframe.\n",
    "* Check the datatypes for each columns. Think about the types of questions you could answer with this data. Think about how the data might need to be cleaned to answer those questions. \n",
    "* Use code to print the total number of student responses contained in the dataframe. "
   ]
  },
  {
   "cell_type": "code",
   "execution_count": null,
   "metadata": {},
   "outputs": [],
   "source": [
    "# write and test your code here"
   ]
  },
  {
   "cell_type": "markdown",
   "metadata": {},
   "source": [
    "## Step 3:\n",
    "* Rename your columns using `renamelist` below to make your columns easier to work with \n",
    "* Check your dataframe to confirm this has worked. "
   ]
  },
  {
   "cell_type": "code",
   "execution_count": null,
   "metadata": {},
   "outputs": [],
   "source": [
    "renamelist = ['Timestamp', 'musicartist', 'height', 'city', '30min', 'travel', 'likepizza', 'deepdish', 'sport', 'spell', 'hangout', 'talk', 'year', 'quote']\n",
    "# write and test your code here"
   ]
  },
  {
   "cell_type": "markdown",
   "metadata": {},
   "source": [
    "## Step 4:\n",
    "* The survey asked 'Do you think you talk more or less than the average person?', 'Is Chicago-style deep dish actually pizza or is it really casserole?', 'Which is the most difficult to spell? '. Create descriptive statistics and vizualizations that desribe students responses to each of these three questions seperately. \n",
    "* Use cross-tabs to examine whether there is any relation between how a student answered these questions. For example, do students who think deep dish is a casserole also say they talk more than the average person? \n"
   ]
  },
  {
   "cell_type": "code",
   "execution_count": null,
   "metadata": {},
   "outputs": [],
   "source": [
    "# write and test your code here"
   ]
  },
  {
   "cell_type": "markdown",
   "metadata": {},
   "source": [
    "## Step 5a:\n",
    "* We want to calculate the mean value for the optimal number of people to hangout with. However, some students responded with a range (for example 6-7) rather than an integer so this column is currently being treated as a string.  \n",
    "* Run the cell below then check your dataframe and see if you can figure out what the code did. Hint: NaN means \"Not a Number\".  "
   ]
  },
  {
   "cell_type": "code",
   "execution_count": null,
   "metadata": {},
   "outputs": [],
   "source": [
    "df[\"hangout_numeric\"] = pd.to_numeric(df[\"hangout\"], errors='coerce') # what does this code do?\n",
    "df[['hangout', 'hangoutnum']] # what does this code do?"
   ]
  },
  {
   "cell_type": "markdown",
   "metadata": {},
   "source": [
    "## Step 5b:\n",
    "* Calculate the mean value of 'hangout_numeric'.\n",
    "* We essentially threw out data in the previous step by removing the answers that contained a range. What effect might this have on your mean value?\n",
    "* Create a vizualization to examine the question: Do people who say they talk more or less differ in how many people they think is the optimal number to hangout with?"
   ]
  },
  {
   "cell_type": "code",
   "execution_count": null,
   "metadata": {},
   "outputs": [],
   "source": [
    "# write and test your code here"
   ]
  },
  {
   "cell_type": "markdown",
   "metadata": {},
   "source": [
    "## Step 6:\n",
    "* Write code to find the top three cities students want to live in and the top three locations students want to travel to.\n"
   ]
  },
  {
   "cell_type": "code",
   "execution_count": null,
   "metadata": {},
   "outputs": [],
   "source": [
    "# write and test your code here"
   ]
  },
  {
   "cell_type": "markdown",
   "metadata": {},
   "source": [
    "***\n",
    "## Step 7a:\n",
    "* The time machine question also contains a mix of numbers and letters that needs to be cleaned before we can do much with it.  \n",
    "* Run this to get a 'year_clean' column. Don't worry about how this code works. "
   ]
  },
  {
   "cell_type": "code",
   "execution_count": null,
   "metadata": {},
   "outputs": [],
   "source": [
    "# you won't need to know this for the test\n",
    "df['year_clean'] = df['year'].str.extract(r'(\\d\\d\\d\\d)')\n",
    "df['year_num'] = pd.to_numeric(df[\"year_clean\"], errors='coerce')\n",
    "df['decade'] = df['year_num'] // 10 * 10"
   ]
  },
  {
   "cell_type": "markdown",
   "metadata": {},
   "source": [
    "## Step 7b:\n",
    "* It is highly likely that there are multiple outliers in our decade data. Either students who want to go back to prehistory or students who want to do deep into the future. Use query to create a data set that only contains rows with values between the years of 1900 and 2000. Call the new dataset 'dfrecent'.\n"
   ]
  },
  {
   "cell_type": "code",
   "execution_count": null,
   "metadata": {},
   "outputs": [],
   "source": [
    "# write and test your code here"
   ]
  },
  {
   "cell_type": "markdown",
   "metadata": {},
   "source": [
    "## Step 7c:\n",
    "* Plot a histogram of 'decade' using dfrecent. What's the least popular decade to visit? "
   ]
  },
  {
   "cell_type": "code",
   "execution_count": null,
   "metadata": {},
   "outputs": [],
   "source": [
    "# write and test your code here"
   ]
  },
  {
   "cell_type": "markdown",
   "metadata": {},
   "source": [
    "***\n",
    "## Step 8a:\n",
    "* Let's pull some data out of the dataframe so you can work on the data using tools you are familiar with. This code block takes a series from the dataframe and places each seperate value in the series in a list."
   ]
  },
  {
   "cell_type": "code",
   "execution_count": 75,
   "metadata": {},
   "outputs": [],
   "source": [
    "# don't worry about how this code works. It won't be on the test.\n",
    "quotelist = df['quote'].loc[df['quote'].notnull()].tolist()"
   ]
  },
  {
   "cell_type": "markdown",
   "metadata": {},
   "source": [
    "## Step 8b:\n",
    "* Use a for loop using `quotelist` to calculate the average length of quotes submitted by students"
   ]
  },
  {
   "cell_type": "code",
   "execution_count": null,
   "metadata": {},
   "outputs": [],
   "source": [
    "# write and test your code here"
   ]
  },
  {
   "cell_type": "markdown",
   "metadata": {},
   "source": [
    "## Step 8c:\n",
    "* We can do the same thing in pandas by telling the dataframe to store the length of each value in a new column and then getting the mean of that column.\n",
    "* This should return the same answer as your for loop"
   ]
  },
  {
   "cell_type": "code",
   "execution_count": null,
   "metadata": {},
   "outputs": [],
   "source": [
    "df['quotelength'] = df['quote'].str.len() # in pandas the length of s string can be calculated by calling the str.len() method\n",
    "# write code here to get the mean of 'quotelength'"
   ]
  },
  {
   "cell_type": "code",
   "execution_count": 77,
   "metadata": {},
   "outputs": [
    {
     "data": {
      "image/png": "[encoded data removed]",
      "text/plain": [
       "<Figure size 432x288 with 1 Axes>"
      ]
     },
     "metadata": {
      "needs_background": "light"
     },
     "output_type": "display_data"
    },
    {
     "name": "stdout",
     "output_type": "stream",
     "text": [
      "81.22916666666667\n"
     ]
    },
    {
     "data": {
      "text/plain": [
       "81.22916666666667"
      ]
     },
     "execution_count": 77,
     "metadata": {},
     "output_type": "execute_result"
    }
   ],
   "source": [
    "import pandas as pd\n",
    "import matplotlib.pyplot as plt\n",
    "\n",
    "df = pd.read_csv('CD125-02-Survey-Fun (Responses) - Form Responses 1.csv')\n",
    "\n",
    "renamelist= ['Timestamp', 'musicartist', 'height', 'city', '30min', 'travel', 'likepizza', 'deepdish', 'sport', 'spell', 'hangout', 'talk', 'year', 'quote']\n",
    "\n",
    "df.columns = renamelist\n",
    "\n",
    "# targetlist = ['talk', 'deepdish', 'spell']\n",
    "# for t in targetlist:\n",
    "#     print(df[t].value_counts())\n",
    "#     print()\n",
    "    \n",
    "pd.crosstab([df['talk'], df['deepdish']], df['spell'], margins=True)\n",
    "\n",
    "\n",
    "df[\"hangout_numeric\"] = pd.to_numeric(df[\"hangout\"], errors='coerce')\n",
    "\n",
    "df['year_clean'] = df['year'].str.extract(r'(\\d\\d\\d\\d)')\n",
    "df['year_num'] = pd.to_numeric(df[\"year_clean\"], errors='coerce')\n",
    "df['decade'] = df['year_num'] // 10 * 10\n",
    "\n",
    "dfdecade = df.query(\"decade > 1899 and decade < 2001\")\n",
    "\n",
    "dfdecade\n",
    "\n",
    "plt.hist(x=\"decade\", data=dfdecade)\n",
    "plt.xlabel(\"Capacity (percent)\")\n",
    "plt.ylabel(\"Count\")\n",
    "plt.title(\"Histogram of Capacity percentages\")\n",
    "plt.show()\n",
    "\n",
    "quotelist = df['quote'].loc[df['quote'].notnull()].tolist()\n",
    "\n",
    "\n",
    "qlen = 0 \n",
    "for quote in quotelist:\n",
    "    #print(type(quote))\n",
    "    #print(quote)\n",
    "    qlen = qlen + len(quote)\n",
    "    \n",
    "qavg = qlen/len(quotelist)\n",
    "\n",
    "print(qavg)\n",
    "\n",
    "df['quotelength'] = df.quote.str.len()\n",
    "df.quotelength.mean()"
   ]
  },
  {
   "cell_type": "code",
   "execution_count": null,
   "metadata": {},
   "outputs": [],
   "source": []
  }
 ],
 "metadata": {
  "kernelspec": {
   "display_name": "Python 3",
   "language": "python",
   "name": "python3"
  },
  "language_info": {
   "codemirror_mode": {
    "name": "ipython",
    "version": 3
   },
   "file_extension": ".py",
   "mimetype": "text/x-python",
   "name": "python",
   "nbconvert_exporter": "python",
   "pygments_lexer": "ipython3",
   "version": "3.6.5"
  }
 },
 "nbformat": 4,
 "nbformat_minor": 2
}
