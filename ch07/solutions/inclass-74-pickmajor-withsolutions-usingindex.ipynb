{
 "cells": [
  {
   "cell_type": "markdown",
   "metadata": {},
   "source": [
    "# In Class Exercise 7.4: Picking Your Major\n",
    "Use the tools we have discussed we can start looking at associations by groups in the dataset `'recent-grads.csv'`, which contains data about employment and salaries for recent college graduates. The data comes from [here](https://github.com/fivethirtyeight/data/tree/master/college-majors) and was used for the story [The Economic Guide to Picking Your Major](https://fivethirtyeight.com/features/the-economic-guide-to-picking-a-college-major/), published by [fivethirtyeight](https://fivethirtyeight.com/)."
   ]
  },
  {
   "cell_type": "markdown",
   "metadata": {},
   "source": [
    "## Imports and Dataframe"
   ]
  },
  {
   "cell_type": "code",
   "execution_count": null,
   "metadata": {},
   "outputs": [],
   "source": [
    "import pandas as pd\n",
    "import matplotlib.pyplot as plt\n",
    "import seaborn as sns"
   ]
  },
  {
   "cell_type": "code",
   "execution_count": null,
   "metadata": {},
   "outputs": [],
   "source": [
    "# For slightly nicer charts\n",
    "plt.rcParams['figure.figsize'] = [10, 6]\n",
    "plt.rcParams['figure.dpi'] = 150\n",
    "sns.set(style=\"ticks\")"
   ]
  },
  {
   "cell_type": "code",
   "execution_count": null,
   "metadata": {},
   "outputs": [],
   "source": [
    "# open full dataset assign to variable\n",
    "df_grad_full = pd.read_csv(\"recent-grads.csv\")\n",
    "\n",
    "# use label based indexing to create a NEW dataset that only contains a few columns (using .copy())\n",
    "df = df_grad_full[['Major_category', 'Major', 'ShareWomen', 'Unemployment_rate', 'Median']].copy()\n",
    "\n",
    "# create a list to use to rename the columns\n",
    "rename_list = ['Major_Cat', 'Major', 'Prcnt_Female', 'Prcnt_Unemploy', 'Income_Median'] \n",
    "\n",
    "# rename columns by assigning the list we made to the dataframe's columns property\n",
    "df.columns = rename_list \n",
    "\n",
    "# check the result\n",
    "df.head()"
   ]
  },
  {
   "cell_type": "markdown",
   "metadata": {},
   "source": [
    "Variables represent the following: \n",
    "* Major_Cat: Majors grouped into categories\n",
    "* Major: Title of Major\n",
    "* Prcnt_Female: Percentage of graduates classified as female\n",
    "* Prcnt_Unemploy: Rate of unemployment\n",
    "* Income_Median: Median earnings of full-time, year-round workers"
   ]
  },
  {
   "cell_type": "markdown",
   "metadata": {},
   "source": [
    "---\n",
    "We are going to be doing a lot of work with the 'Major' category. To make this work easier we can set the dataframe index to 'Major' using the following code."
   ]
  },
  {
   "cell_type": "code",
   "execution_count": null,
   "metadata": {},
   "outputs": [],
   "source": [
    "df = df.set_index('Major')"
   ]
  },
  {
   "cell_type": "markdown",
   "metadata": {},
   "source": [
    "---\n",
    "## 1. Median Income - Top Majors\n",
    "Produce a list of top ten majors for median income."
   ]
  },
  {
   "cell_type": "code",
   "execution_count": null,
   "metadata": {},
   "outputs": [],
   "source": [
    "# enter and test code here\n",
    "\n",
    "df['Income_Median'].sort_values().tail(10)"
   ]
  },
  {
   "cell_type": "markdown",
   "metadata": {},
   "source": [
    "---\n",
    "## 2. Median Income - Bottom Majors\n",
    "Produce a list of the ten majors with the lowest median income."
   ]
  },
  {
   "cell_type": "code",
   "execution_count": null,
   "metadata": {},
   "outputs": [],
   "source": [
    "# enter and test code here\n",
    "\n",
    "df['Income_Median'].sort_values().head(10)"
   ]
  },
  {
   "cell_type": "markdown",
   "metadata": {},
   "source": [
    "---\n",
    "## 3. Percent Female - Top Majors\n",
    "Produce a list of top ten majors for percentage of women graduating."
   ]
  },
  {
   "cell_type": "code",
   "execution_count": null,
   "metadata": {},
   "outputs": [],
   "source": [
    "# enter and test code here\n",
    "\n",
    "df['Prcnt_Female'].mean().sort_values().tail(10)"
   ]
  },
  {
   "cell_type": "markdown",
   "metadata": {},
   "source": [
    "---\n",
    "## 4. Percent Female - Bottom Majors\n",
    "Produce a list of top ten majors for percentage of women graduating."
   ]
  },
  {
   "cell_type": "code",
   "execution_count": null,
   "metadata": {},
   "outputs": [],
   "source": [
    "# enter and test code here\n",
    "\n",
    "df['Prcnt_Female'].sort_values().head(10)"
   ]
  },
  {
   "cell_type": "markdown",
   "metadata": {},
   "source": [
    "---\n",
    "## 5. Single Correlation\n",
    "Produce a single Pearson's r statistic for the correlation betweeen median income and percent female."
   ]
  },
  {
   "cell_type": "code",
   "execution_count": null,
   "metadata": {},
   "outputs": [],
   "source": [
    "# enter and test code here\n",
    "\n",
    "df['Income_Median'].corr(df['Prcnt_Female'])"
   ]
  },
  {
   "cell_type": "markdown",
   "metadata": {},
   "source": [
    "---\n",
    "## 6. Correlation Table\n",
    "Produce a correlation table from the dataframe."
   ]
  },
  {
   "cell_type": "code",
   "execution_count": null,
   "metadata": {},
   "outputs": [],
   "source": [
    "# enter and test code here\n",
    "\n",
    "df.corr()"
   ]
  },
  {
   "cell_type": "markdown",
   "metadata": {},
   "source": [
    "---\n",
    "## 7. Heatmap\n",
    "Produce a heatmap from the dataframe."
   ]
  },
  {
   "cell_type": "code",
   "execution_count": null,
   "metadata": {},
   "outputs": [],
   "source": [
    "# enter and test code here\n",
    "\n",
    "correlation_table = df.corr()\n",
    "sns.heatmap(correlation_table, cmap=\"Blues\")"
   ]
  },
  {
   "cell_type": "markdown",
   "metadata": {},
   "source": [
    "---\n",
    "## 8. Scatter Matrix\n",
    "* Select any any three \"major categories\" that weren't used in the assigned reading. (Remember you can use `unique()` to get a list of unique values from a series.) \n",
    "* Create a new dataframe that only contains entries from the major categories that you selected\n",
    "* Create a scatter matrix examining percent female and median income by major category\n",
    "* Interpret every cell in the scatter matrix. What does these visualizations tell you about the data?"
   ]
  },
  {
   "cell_type": "code",
   "execution_count": null,
   "metadata": {},
   "outputs": [],
   "source": [
    "# enter and test code here\n",
    "\n",
    "df.Major_Cat.unique()\n",
    "df3majors = df.query('Major_Cat == \"Engineering\" or Major_Cat == \"Business\" or Major_Cat == \"Psychology & Social Work\"')\n",
    "sns.pairplot(df3majors, hue='Major_Cat')"
   ]
  },
  {
   "cell_type": "markdown",
   "metadata": {},
   "source": [
    "---\n",
    "## 9. Some More Data Exploration: \n",
    "What are the top five majors with more than 50% female graduates with the highest median income?"
   ]
  },
  {
   "cell_type": "code",
   "execution_count": null,
   "metadata": {},
   "outputs": [],
   "source": [
    "# enter and test code here\n",
    "\n",
    "dffemale = df.query(\"Prcnt_Female > .50\")\n",
    "dffemale['Income_Median'].sort_values().tail(5)"
   ]
  },
  {
   "cell_type": "markdown",
   "metadata": {},
   "source": [
    "---\n",
    "## 10. Some More Data Exploration: \n",
    "Make a horizontal bar chart visualizing the result to the previous question."
   ]
  },
  {
   "cell_type": "code",
   "execution_count": null,
   "metadata": {},
   "outputs": [],
   "source": [
    "# enter and test code here\n",
    "\n",
    "femalebar = dffemale['Income_Median'].sort_values().tail(5)\n",
    "\n",
    "plt.barh(y=femalebar.index, width=femalebar.values)\n",
    "plt.xlabel(\"Median Income\")\n",
    "plt.ylabel(\"Major\")\n",
    "plt.title(\"Median Income in Majors with Female Majority\")\n",
    "plt.show()"
   ]
  },
  {
   "cell_type": "markdown",
   "metadata": {},
   "source": [
    "---\n",
    "## 11. Some More Data Exploration: \n",
    "What major has the highest unemployment rate?"
   ]
  },
  {
   "cell_type": "code",
   "execution_count": null,
   "metadata": {},
   "outputs": [],
   "source": [
    "# enter and test code here\n",
    "\n",
    "df['Prcnt_Unemploy'].sort_values().tail(1)"
   ]
  },
  {
   "cell_type": "markdown",
   "metadata": {},
   "source": [
    "---\n",
    "## 12. Some More Data Exploration: \n",
    "Plot a histogram of the unemployment rate."
   ]
  },
  {
   "cell_type": "code",
   "execution_count": null,
   "metadata": {},
   "outputs": [],
   "source": [
    "# enter and test code here\n",
    "\n",
    "plt.hist(df['Prcnt_Unemploy'])"
   ]
  },
  {
   "cell_type": "markdown",
   "metadata": {},
   "source": [
    "---\n",
    "## 13. Some More Data Exploration: \n",
    "Excluding the \"Engineering\" major category, what are the top five median income majors?"
   ]
  },
  {
   "cell_type": "code",
   "execution_count": null,
   "metadata": {},
   "outputs": [],
   "source": [
    "# enter and test code here\n",
    "\n",
    "dfnoengin = df.query(\"Major_Cat != 'Engineering'\")\n",
    "dfnoengin['Income_Median'].sort_values().tail(5)"
   ]
  },
  {
   "cell_type": "markdown",
   "metadata": {},
   "source": [
    "---\n",
    "## 14. Your Ideal Major: \n",
    "Create standard scores for median income, unemployment, and percent female by:\n",
    "* subtracting the mean value for each column from the value\n",
    "* then dividing the result by the standard deviation (to do this use the '.std()' method on a series)\n",
    "* then assigning the result to new columns in the data frame \n",
    "\n",
    "Use the standard scores to create your own personal index score that creates a weighted combination of  median income, unemployment, and percent female to find your ideal major. "
   ]
  },
  {
   "cell_type": "code",
   "execution_count": null,
   "metadata": {},
   "outputs": [],
   "source": [
    "# calculate standard scores\n",
    "df['Prcnt_Female_stan'] = (df['Prcnt_Female'] - df['Prcnt_Female'].mean()) / df['Prcnt_Female'].std()\n",
    "df['Prcnt_Unemploy_stan'] = (df['Prcnt_Unemploy'] - df['Income_Median'].mean()) / df['Income_Median'].std()\n",
    "df['Income_Median_stan'] = (df['Income_Median'] - df['Income_Median'].mean()) / df['Income_Median'].std()\n",
    "\n",
    "# example weighted index\n",
    "df['major_weighted'] = (2 * df['Prcnt_Female_stan']) + (1.5 * df['Income_Median_stan']) - (.5 * df['Prcnt_Unemploy_stan'])\n",
    "\n",
    "df['major_weighted'].sort_values().tail(5)"
   ]
  },
  {
   "cell_type": "markdown",
   "metadata": {},
   "source": [
    "---\n",
    "## 15. Ask and Answer Your Own Question: \n",
    "You have the tools. Show us what you can do with them. "
   ]
  },
  {
   "cell_type": "code",
   "execution_count": null,
   "metadata": {},
   "outputs": [],
   "source": [
    "# enter and test code here"
   ]
  }
 ],
 "metadata": {
  "kernelspec": {
   "display_name": "Python 3",
   "language": "python",
   "name": "python3"
  },
  "language_info": {
   "codemirror_mode": {
    "name": "ipython",
    "version": 3
   },
   "file_extension": ".py",
   "mimetype": "text/x-python",
   "name": "python",
   "nbconvert_exporter": "python",
   "pygments_lexer": "ipython3",
   "version": "3.6.5"
  }
 },
 "nbformat": 4,
 "nbformat_minor": 2
}
