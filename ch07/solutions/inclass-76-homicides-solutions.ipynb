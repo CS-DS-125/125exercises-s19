{
 "cells": [
  {
   "cell_type": "markdown",
   "metadata": {},
   "source": [
    "# In Class Exercise 7.6 - Solutions for Problems 1 and 2\n",
    "We are going practice integrating what we have learned this semester. This exercise will help you practice thinking about problems and coding solutions. \n",
    "We do not expect you to complete all of this in a single class period, however, we would like you to complete as much of it as you can and submit your code at the end of the class period."
   ]
  },
  {
   "cell_type": "markdown",
   "metadata": {},
   "source": [
    "## Imports and Dataframe"
   ]
  },
  {
   "cell_type": "code",
   "execution_count": null,
   "metadata": {},
   "outputs": [],
   "source": [
    "import pandas as pd\n",
    "import matplotlib.pyplot as plt\n",
    "import seaborn as sns"
   ]
  },
  {
   "cell_type": "code",
   "execution_count": null,
   "metadata": {},
   "outputs": [],
   "source": [
    "# For slightly nicer charts\n",
    "plt.rcParams['figure.figsize'] = [10, 6]\n",
    "plt.rcParams['figure.dpi'] = 150\n",
    "sns.set(style=\"ticks\")"
   ]
  },
  {
   "cell_type": "markdown",
   "metadata": {},
   "source": [
    "***\n",
    "## Washington Post Unsolved Homicides\n",
    "The dataset title `'homicide-revised.csv'` is adapted from a dataset developed by the Washington Post for [this article](https://www.washingtonpost.com/graphics/2018/investigations/where-murders-go-unsolved/?noredirect=on&utm_term=.e03c4dc31643) that examined unsolved homicides in the United States. "
   ]
  },
  {
   "cell_type": "markdown",
   "metadata": {},
   "source": [
    "***\n",
    "### Problem 1\n",
    "* The `'victim_age'` column contains a mix of integers and words. Write code that uses the `map()` function to create a new `'age'` column that only contains the integers. For a reminder of how `map()` works, an example has been included at the bottom of this notebook.\n",
    "* Find the three cities with the youngest victims on average and the three cities with the oldest victims on average."
   ]
  },
  {
   "cell_type": "code",
   "execution_count": null,
   "metadata": {},
   "outputs": [],
   "source": [
    "# read the data file\n",
    "df = pd.read_csv('homicide-revised.csv') \n",
    "\n",
    "# a function to create a new series labelled 'age' that excludes 'Unknown' and converts strings to integers\n",
    "def remove_unknown(age_str):\n",
    "    if age_str == 'Unknown':\n",
    "        pass\n",
    "    else:\n",
    "        return int(age_str)\n",
    "\n",
    "# create a new series (column) in the data frame using .map\n",
    "df['age'] = df['victim_age'].map(remove_unknown)\n",
    "\n",
    "# check to make sure it worked\n",
    "df.head(12)"
   ]
  },
  {
   "cell_type": "markdown",
   "metadata": {},
   "source": [
    "Now we've turned the ages into integers and replaced `'Unknown'` with nothing which Pandas treats as `NaN` for 'Not a Number'. Let's try to calculate some means."
   ]
  },
  {
   "cell_type": "code",
   "execution_count": null,
   "metadata": {},
   "outputs": [],
   "source": [
    "# find the three cities with the youngest average age\n",
    "print('Youngest Average:')\n",
    "print(df.groupby(by='city')['age'].mean().sort_values().head(3))\n",
    "\n",
    "print()\n",
    "\n",
    "# find the three cities with the oldest average age\n",
    "print('Oldest Average:')\n",
    "print(df.groupby(by='city')['age'].mean().sort_values().tail(5))"
   ]
  },
  {
   "cell_type": "markdown",
   "metadata": {},
   "source": [
    "Notice that Dallas and Phoenix both have NaN values. That should get your attention. We know there were some NaN values in Albuquerque and yet mean still returns an average for Albuquerque. \n",
    "Use your coding tools to look at the data and see if you can figure out how Dallas and Phoenix are different. Try not to just scroll through the whole dataset manually. Its huge, and won't help you practice thinking about coding.\n",
    "\n",
    "So let's say you looked at your data in detail and you decide to drop any rows where the age is NaN. Using the tools we have so far, how could we do this? One way would be to use `.query()`."
   ]
  },
  {
   "cell_type": "code",
   "execution_count": null,
   "metadata": {},
   "outputs": [],
   "source": [
    "df_nan_removed = df.query('age > -1 and age < 999')\n",
    "print(df_nan_removed.groupby(by='city')['age'].mean().sort_values().tail(5))"
   ]
  },
  {
   "cell_type": "markdown",
   "metadata": {},
   "source": [
    "***\n",
    "### Problem 2\n",
    "Write a program that allows a user to select two separate cities and then compares those two cities rates of solved and unsolved homicides using a single visualization. Note! The rate here refers to the percentage of total homicides that are solved or unsolved. \n",
    "\n",
    "Your program must include the following:\n",
    "* Instructions that include the valid city names the user can select. Do not 'hard code' in the cities. Your program must find the unique city names from the dataset and include them in the instructions for the user.\n",
    "* A function called `ask_city` that asks for the user to input a city, checks to make sure the input is a valid city listed in the dataset, prompts for another entry if it is not, and returns the valid city name.\n",
    "* A new column in the dataframe called `'outcome'`, that has the value 'Solved' if the disposition of the case is 'Closed by arrest', and 'Unsolved' if not\n",
    "\n",
    "Hints:\n",
    "* Try picking two cities of your own choice first, and create the visualization for those two cities, once that works, turn the code into function that would work for any two cities\n",
    "* Once you have a visualization function that you can pass two cities into, work on the `ask_city` function. You can call it twice to get what you need for the visualization.\n",
    "* Remember the tolist() function is handy for converting objects into lists... \n",
    "* Bonus challenge, if your user enters the same city twice, make them re-enter their selections\n"
   ]
  },
  {
   "cell_type": "code",
   "execution_count": null,
   "metadata": {},
   "outputs": [],
   "source": [
    "# assign disposition status to solved or unsolved outcome\n",
    "def case_status(status):\n",
    "    if status == 'Closed by arrest':\n",
    "        return 'Solved'\n",
    "    else:\n",
    "        return 'Unsolved'\n",
    "            \n",
    "# create a new series (column) that classfies casses as solved or unsolved\n",
    "df['Outcome'] = df['disposition'].map(case_status)\n",
    "\n",
    "\n",
    "# find the unique city values and then make them into a list\n",
    "city_list = df['city'].unique().tolist()\n",
    "\n",
    "# ask for cities until an entry matches the cities in city_list\n",
    "def ask_city():\n",
    "    while True: \n",
    "        city_selection = input('Please enter a valid city:')\n",
    "        if city_selection in city_list:\n",
    "            return city_selection\n",
    "        else:\n",
    "            print('That is not a valid city. Please try again.')\n",
    "\n",
    "            \n",
    "# print the cities avaliable to choose from            \n",
    "print('Data is available from these cities:')\n",
    "print(city_list)\n",
    "\n",
    "# ask for the user to provide cities\n",
    "city1 = ask_city()\n",
    "city2 = ask_city()\n",
    "\n",
    "\n",
    "# bonus challenge, check for duplicate city and ask again if needed\n",
    "def city_check(c1, c2):\n",
    "    while c1 == c2:\n",
    "        print('You entered the same city twice. Please try again')\n",
    "        c2 = ask_city()\n",
    "    return c2\n",
    "\n",
    "city2 = city_check(city1, city2)    \n",
    "\n",
    "\n",
    "# we can select a subset of the data by using query and string formatting\n",
    "df_selected_cities = df.query(\"city == '{}' or city == '{}'\".format(city1, city2))\n",
    "\n",
    "# or we can select a subset of the data by using query and the @ symbol to insert a variable into the string\n",
    "df_selected_cities = df.query('city == @city1 or city == @city2')\n",
    "\n",
    "\n",
    "# we can get the rate (%) by using crosstabs\n",
    "df_percent = pd.crosstab(df_selected_cities['city'], df_selected_cities['Outcome'], normalize = 'index')\n",
    "\n",
    "# to make it easier to plot the crosstab we will reset the index to make 'city' easier to work with\n",
    "df_percent = df_percent.reset_index()\n",
    "\n",
    "# use matplotlib to make the bar charts, note the addition of width and align, if these are not included\n",
    "# matplotlib will display the bars over one another\n",
    "plt.bar(x = 'city' , height = 'Solved' , width = 0.2 , data = df_percent, align = 'edge')\n",
    "plt.bar(x = 'city' , height = 'Unsolved' , width = -0.2, data = df_percent, align = 'edge')\n",
    "plt.ylabel('Outcome %')\n",
    "plt.legend(['Solved','Unsolved'])\n",
    "plt.title('Homicide Investigation Outcomes: {} and {}'.format(city1, city2))\n",
    "plt.show()"
   ]
  },
  {
   "cell_type": "markdown",
   "metadata": {},
   "source": [
    "***\n",
    "### Problem 3 \n",
    "Write a program that allows a user to select one valid city. The program will then determine what other two cities are most similar in terms of the total number of homicides. The program will then produce a visualization comparing the three cities rates of solved and unsolved homicides using a single visualization.\n",
    "\n",
    "\n",
    "Note! The rate here refers to the percentage of total homicides that are solved or unsolved. "
   ]
  },
  {
   "cell_type": "code",
   "execution_count": null,
   "metadata": {},
   "outputs": [],
   "source": [
    "# write and test your code here"
   ]
  },
  {
   "cell_type": "markdown",
   "metadata": {},
   "source": [
    "***\n",
    "### Problem 4\n",
    "Use descriptive statistics and visualizations to compares the rates of solved and unsolved homicides as a function of victims age (ignore locations, just look at age)"
   ]
  },
  {
   "cell_type": "code",
   "execution_count": null,
   "metadata": {},
   "outputs": [],
   "source": [
    "# write and test your code here"
   ]
  },
  {
   "cell_type": "markdown",
   "metadata": {},
   "source": [
    "***\n",
    "### Problem 5\n",
    "Use descriptive statistics and visualizations to explore the role of ethnicity, sex, age, and year in homicide investigations in Chicago. "
   ]
  },
  {
   "cell_type": "code",
   "execution_count": null,
   "metadata": {},
   "outputs": [],
   "source": [
    "# write and test your code here"
   ]
  },
  {
   "cell_type": "markdown",
   "metadata": {},
   "source": [
    "***\n",
    "### Example: Using Map"
   ]
  },
  {
   "cell_type": "code",
   "execution_count": null,
   "metadata": {},
   "outputs": [],
   "source": [
    "df_grads = pd.read_csv('recent-grads.csv')\n",
    "\n",
    "def get_major_length(major):\n",
    "    major_length = len(major)\n",
    "    return major_length\n",
    "\n",
    "df_grads['Major_Length'] = df_grads['Major'].map(get_major_length)"
   ]
  }
 ],
 "metadata": {
  "kernelspec": {
   "display_name": "Python 3",
   "language": "python",
   "name": "python3"
  },
  "language_info": {
   "codemirror_mode": {
    "name": "ipython",
    "version": 3
   },
   "file_extension": ".py",
   "mimetype": "text/x-python",
   "name": "python",
   "nbconvert_exporter": "python",
   "pygments_lexer": "ipython3",
   "version": "3.6.5"
  }
 },
 "nbformat": 4,
 "nbformat_minor": 2
}
