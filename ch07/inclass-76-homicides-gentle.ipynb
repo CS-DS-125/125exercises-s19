{
 "cells": [
  {
   "cell_type": "markdown",
   "metadata": {},
   "source": [
    "# In Class Exercise 7.6 - Solutions for Problems 1 and 2\n",
    "We are going practice integrating what we have learned this semester. This exercise will help you practice thinking about problems and coding solutions. "
   ]
  },
  {
   "cell_type": "markdown",
   "metadata": {},
   "source": [
    "## Imports and Dataframe"
   ]
  },
  {
   "cell_type": "code",
   "execution_count": 1,
   "metadata": {},
   "outputs": [],
   "source": [
    "import pandas as pd\n",
    "import matplotlib.pyplot as plt\n",
    "import seaborn as sns"
   ]
  },
  {
   "cell_type": "code",
   "execution_count": 2,
   "metadata": {},
   "outputs": [],
   "source": [
    "# For slightly nicer charts\n",
    "plt.rcParams['figure.figsize'] = [10, 6]\n",
    "plt.rcParams['figure.dpi'] = 150\n",
    "sns.set(style=\"ticks\")"
   ]
  },
  {
   "cell_type": "markdown",
   "metadata": {},
   "source": [
    "***\n",
    "## Washington Post Unsolved Homicides\n",
    "The dataset title `'homicide-revised.csv'` is adapted from a dataset developed by the Washington Post for [this article](https://www.washingtonpost.com/graphics/2018/investigations/where-murders-go-unsolved/?noredirect=on&utm_term=.e03c4dc31643) that examined unsolved homicides in the United States. First, make a dataframe called 'df' from the csv."
   ]
  },
  {
   "cell_type": "code",
   "execution_count": 3,
   "metadata": {},
   "outputs": [],
   "source": [
    "# read the data file\n",
    "df = pd.read_csv('homicide-revised.csv') "
   ]
  },
  {
   "cell_type": "markdown",
   "metadata": {},
   "source": [
    "***\n",
    "### Cities with Youngest and Cities with the Oldest Victims\n",
    "We want to know the three cities with the youngest victims on average and the three cities with the oldest victims on average.\n",
    "Each row of the dataframe represents one homicide. In each row there is information about city and the age that we can use to answer our questions.\n",
    "Before we get going with our analysis we need to check the data.\n",
    "\n",
    "#### 1a. Examine columns names and datatypes.\n",
    "Use `info()` to look at the column names and look at the datatypes. "
   ]
  },
  {
   "cell_type": "code",
   "execution_count": 4,
   "metadata": {},
   "outputs": [
    {
     "name": "stdout",
     "output_type": "stream",
     "text": [
      "<class 'pandas.core.frame.DataFrame'>\n",
      "RangeIndex: 52179 entries, 0 to 52178\n",
      "Data columns (total 7 columns):\n",
      "victim_race    52179 non-null object\n",
      "victim_age     52179 non-null object\n",
      "victim_sex     52179 non-null object\n",
      "city           52179 non-null object\n",
      "state          52179 non-null object\n",
      "disposition    52179 non-null object\n",
      "year           52179 non-null int64\n",
      "dtypes: int64(1), object(6)\n",
      "memory usage: 2.8+ MB\n"
     ]
    }
   ],
   "source": [
    "df.info()"
   ]
  },
  {
   "cell_type": "markdown",
   "metadata": {},
   "source": [
    "Notice that victim_age is a non-null object. We would probably expect that to be an integer or a float. This probably isn't a clean dataset. We have some work ahead of us. \n",
    "\n",
    "#### 1b. Examine 'victim_age'.\n",
    "Use `describe()` to see if you can get a better sense of what's in this column."
   ]
  },
  {
   "cell_type": "code",
   "execution_count": 5,
   "metadata": {},
   "outputs": [
    {
     "data": {
      "text/plain": [
       "count       52179\n",
       "unique        102\n",
       "top       Unknown\n",
       "freq         2999\n",
       "Name: victim_age, dtype: object"
      ]
     },
     "execution_count": 5,
     "metadata": {},
     "output_type": "execute_result"
    }
   ],
   "source": [
    "df['victim_age'].describe()"
   ]
  },
  {
   "cell_type": "markdown",
   "metadata": {},
   "source": [
    "So the the 'victim_age' series has 52179 rows and 102 unique values. However, the most commonly occurring value is 'Unknown' which occurred 2999 times.\n",
    "We are not going to be able to calculate much with 'Unknown' sitting in the column. "
   ]
  },
  {
   "cell_type": "markdown",
   "metadata": {},
   "source": [
    "#### 1c. Write a function to exclude 'Unknown'\n",
    "The remove_unknown function should take a single value called 'value' and then returns None if the value in 'Unknown'. If the value is not 'Unknown' the function will return the value as an integer (remember the `int()` function)?"
   ]
  },
  {
   "cell_type": "code",
   "execution_count": 6,
   "metadata": {},
   "outputs": [],
   "source": [
    "def remove_unknown(age_str):\n",
    "    if age_str == 'Unknown':\n",
    "        return None\n",
    "    else:\n",
    "        return int(age_str)"
   ]
  },
  {
   "cell_type": "markdown",
   "metadata": {},
   "source": [
    "#### 1d. Make a new column \n",
    "The new column should be called 'age' and should contain only integers from the 'victim_age' column. Use `map()` and `remove_unknown()` to create the column.\n",
    "For a reminder of how `map()` works, an example has been included at the bottom of this notebook.\n"
   ]
  },
  {
   "cell_type": "code",
   "execution_count": 7,
   "metadata": {},
   "outputs": [
    {
     "data": {
      "text/html": [
       "<div>\n",
       "<style scoped>\n",
       "    .dataframe tbody tr th:only-of-type {\n",
       "        vertical-align: middle;\n",
       "    }\n",
       "\n",
       "    .dataframe tbody tr th {\n",
       "        vertical-align: top;\n",
       "    }\n",
       "\n",
       "    .dataframe thead th {\n",
       "        text-align: right;\n",
       "    }\n",
       "</style>\n",
       "<table border=\"1\" class=\"dataframe\">\n",
       "  <thead>\n",
       "    <tr style=\"text-align: right;\">\n",
       "      <th></th>\n",
       "      <th>victim_race</th>\n",
       "      <th>victim_age</th>\n",
       "      <th>victim_sex</th>\n",
       "      <th>city</th>\n",
       "      <th>state</th>\n",
       "      <th>disposition</th>\n",
       "      <th>year</th>\n",
       "      <th>age</th>\n",
       "    </tr>\n",
       "  </thead>\n",
       "  <tbody>\n",
       "    <tr>\n",
       "      <th>0</th>\n",
       "      <td>Hispanic</td>\n",
       "      <td>78</td>\n",
       "      <td>Male</td>\n",
       "      <td>Albuquerque</td>\n",
       "      <td>NM</td>\n",
       "      <td>Closed without arrest</td>\n",
       "      <td>2010</td>\n",
       "      <td>78.0</td>\n",
       "    </tr>\n",
       "    <tr>\n",
       "      <th>1</th>\n",
       "      <td>Hispanic</td>\n",
       "      <td>17</td>\n",
       "      <td>Male</td>\n",
       "      <td>Albuquerque</td>\n",
       "      <td>NM</td>\n",
       "      <td>Closed by arrest</td>\n",
       "      <td>2010</td>\n",
       "      <td>17.0</td>\n",
       "    </tr>\n",
       "    <tr>\n",
       "      <th>2</th>\n",
       "      <td>White</td>\n",
       "      <td>15</td>\n",
       "      <td>Female</td>\n",
       "      <td>Albuquerque</td>\n",
       "      <td>NM</td>\n",
       "      <td>Closed without arrest</td>\n",
       "      <td>2010</td>\n",
       "      <td>15.0</td>\n",
       "    </tr>\n",
       "    <tr>\n",
       "      <th>3</th>\n",
       "      <td>Hispanic</td>\n",
       "      <td>32</td>\n",
       "      <td>Male</td>\n",
       "      <td>Albuquerque</td>\n",
       "      <td>NM</td>\n",
       "      <td>Closed by arrest</td>\n",
       "      <td>2010</td>\n",
       "      <td>32.0</td>\n",
       "    </tr>\n",
       "    <tr>\n",
       "      <th>4</th>\n",
       "      <td>White</td>\n",
       "      <td>72</td>\n",
       "      <td>Female</td>\n",
       "      <td>Albuquerque</td>\n",
       "      <td>NM</td>\n",
       "      <td>Closed without arrest</td>\n",
       "      <td>2010</td>\n",
       "      <td>72.0</td>\n",
       "    </tr>\n",
       "  </tbody>\n",
       "</table>\n",
       "</div>"
      ],
      "text/plain": [
       "  victim_race victim_age victim_sex         city state            disposition  \\\n",
       "0    Hispanic         78       Male  Albuquerque    NM  Closed without arrest   \n",
       "1    Hispanic         17       Male  Albuquerque    NM       Closed by arrest   \n",
       "2       White         15     Female  Albuquerque    NM  Closed without arrest   \n",
       "3    Hispanic         32       Male  Albuquerque    NM       Closed by arrest   \n",
       "4       White         72     Female  Albuquerque    NM  Closed without arrest   \n",
       "\n",
       "   year   age  \n",
       "0  2010  78.0  \n",
       "1  2010  17.0  \n",
       "2  2010  15.0  \n",
       "3  2010  32.0  \n",
       "4  2010  72.0  "
      ]
     },
     "execution_count": 7,
     "metadata": {},
     "output_type": "execute_result"
    }
   ],
   "source": [
    "# create a new series (column) in the data frame using .map\n",
    "df['age'] = df['victim_age'].map(remove_unknown)\n",
    "\n",
    "# check to make sure it worked\n",
    "df.head()"
   ]
  },
  {
   "cell_type": "markdown",
   "metadata": {},
   "source": [
    "#### 1e. Analysis using 'age'. \n",
    "So now we should be able to answer our original question about the three cities with the youngest and oldest homicide victims. As you do this, remember that each row is a homicide, not a city, so you will need to aggregate the data somehow... "
   ]
  },
  {
   "cell_type": "code",
   "execution_count": 8,
   "metadata": {},
   "outputs": [
    {
     "name": "stdout",
     "output_type": "stream",
     "text": [
      "Youngest Average:\n",
      "city\n",
      "Boston        28.385993\n",
      "Chicago       28.545126\n",
      "Pittsburgh    29.550079\n",
      "Name: age, dtype: float64\n",
      "\n",
      "Oldest Average:\n",
      "city\n",
      "Albuquerque    35.182663\n",
      "Las Vegas      35.433990\n",
      "San Diego      36.707965\n",
      "Dallas               NaN\n",
      "Phoenix              NaN\n",
      "Name: age, dtype: float64\n"
     ]
    }
   ],
   "source": [
    "# find the three cities with the youngest average age\n",
    "print('Youngest Average:')\n",
    "print(df.groupby(by='city')['age'].mean().sort_values().head(3))\n",
    "\n",
    "print()\n",
    "\n",
    "# find the three cities with the oldest average age\n",
    "print('Oldest Average:')\n",
    "print(df.groupby(by='city')['age'].mean().sort_values().tail(5))"
   ]
  },
  {
   "cell_type": "markdown",
   "metadata": {},
   "source": [
    "#### 1f. Mystery NaN values. \n",
    "If you used groupby and sort_values to solve the problem above its likely that you noticed that Dallas and Phoenix both have NaN values for their mean age. That should get your attention. We know there were some NaN values in the age series (coming from the None values we returned in our function) but our analysis doesn't have trouble with other cities (such as Albuquerque). \n",
    "\n",
    "Use your coding tools to look at the series and see if you can figure out how Dallas and Phoenix are different. Try not to just scroll through the whole dataset manually. Its huge, and won't help you practice thinking about coding."
   ]
  },
  {
   "cell_type": "code",
   "execution_count": 9,
   "metadata": {},
   "outputs": [
    {
     "name": "stdout",
     "output_type": "stream",
     "text": [
      "Unique age values for Dallas: [nan]\n",
      "Unique age values for Phoenix: [nan]\n",
      "Unique age values for Albuquerque: [78. 17. 15. 32. 72. 91. 52. 56. 43. 20. nan 46. 16. 54. 22. 49. 25. 47.\n",
      " 88. 27. 36.  1. 58. 42. 50.  3. 21. 19. 95. 24. 41. 51. 18.  8. 64. 30.\n",
      "  2. 39. 45. 31.  0. 23. 28. 35. 26. 40. 94. 33. 57. 55. 29. 53. 66.  5.\n",
      " 74. 69. 37. 59. 34. 38. 44. 14.  9. 65. 90. 48. 62. 60.  4. 70. 10. 11.\n",
      " 63.  6. 73.]\n"
     ]
    }
   ],
   "source": [
    "# why do Dallas and Phoenix return NaN when we use groupby and mean?\n",
    "\n",
    "df_dallas = df.query('city == \"Dallas\"')\n",
    "print('Unique age values for Dallas:', df_dallas['age'].unique())\n",
    "\n",
    "df_phnx = df.query('city == \"Phoenix\"')\n",
    "print('Unique age values for Phoenix:', df_phnx['age'].unique())\n",
    "\n",
    "df_alb = df.query('city == \"Albuquerque\"')\n",
    "print('Unique age values for Albuquerque:', df_alb['age'].unique())\n",
    "\n",
    "# because Dallas and Phoenix have no age values at all"
   ]
  },
  {
   "cell_type": "markdown",
   "metadata": {},
   "source": [
    "#### 1g. Creating a new dataframe with no NaN.\n",
    "So let's say you looked at your data in detail and you decide to drop any rows where the age is NaN. Using the tools we have so far, how could we do this? One way would be to use `.query()`. See if you can figure out how to use query to create a new dataset that only contains rows with age values."
   ]
  },
  {
   "cell_type": "code",
   "execution_count": 10,
   "metadata": {},
   "outputs": [
    {
     "name": "stdout",
     "output_type": "stream",
     "text": [
      "city\n",
      "Denver         34.573718\n",
      "New York       34.685805\n",
      "Albuquerque    35.182663\n",
      "Las Vegas      35.433990\n",
      "San Diego      36.707965\n",
      "Name: age, dtype: float64\n"
     ]
    }
   ],
   "source": [
    "df_nan_removed = df.query('age > -1 and age < 999')\n",
    "print(df_nan_removed.groupby(by='city')['age'].mean().sort_values().tail(5))"
   ]
  },
  {
   "cell_type": "markdown",
   "metadata": {},
   "source": [
    "***\n",
    "### Visualizing Solved and Unsolved Homicide Rates in Two Cities\n",
    "Our new goal: Write a program that allows a user to select two separate cities and then compares those two city's rates of solved and unsolved homicides using a single visualization. Note! The rate here refers to the percentage of total homicides that are solved or unsolved. \n",
    "\n",
    "#### 2a. Identify the Cities a User Could Pick From\n",
    "Let's create new variable called 'city_list' that contains the unique city values as a list. After that, write a function called print_cities that takes the city_list as an argument, and prints instructions (for the user telling them they choose from the following list) and then the city_list. "
   ]
  },
  {
   "cell_type": "code",
   "execution_count": 11,
   "metadata": {},
   "outputs": [
    {
     "name": "stdout",
     "output_type": "stream",
     "text": [
      "You can choose from the following cities:\n",
      "['Albuquerque', 'Atlanta', 'Baltimore', 'Baton Rouge', 'Birmingham', 'Boston', 'Buffalo', 'Charlotte', 'Chicago', 'Cincinnati', 'Columbus', 'Dallas', 'Denver', 'Detroit', 'Durham', 'Fort Worth', 'Fresno', 'Houston', 'Indianapolis', 'Jacksonville', 'Kansas City', 'Las Vegas', 'Long Beach', 'Los Angeles', 'Louisville', 'Memphis', 'Miami', 'Milwaukee', 'Minneapolis', 'Nashville', 'New Orleans', 'New York', 'Oakland', 'Oklahoma City', 'Omaha', 'Philadelphia', 'Phoenix', 'Pittsburgh', 'Richmond', 'San Antonio', 'Sacramento', 'Savannah', 'San Bernardino', 'San Diego', 'San Francisco', 'St. Louis', 'Stockton', 'Tampa', 'Tulsa', 'Washington']\n"
     ]
    }
   ],
   "source": [
    "city_list = df['city'].unique().tolist()\n",
    "\n",
    "def print_cities(city_list):\n",
    "    print('You can choose from the following cities:')\n",
    "    print(city_list)\n",
    "\n",
    "print_cities(city_list)"
   ]
  },
  {
   "cell_type": "markdown",
   "metadata": {},
   "source": [
    "#### 2b. Ask the user to enter a city and check to see if its a valid city\n",
    "Write a function called `ask_city` that asks for the user to input a city, checks to make sure the input is a valid city listed in the dataset, prompts for another entry if it is not, and returns the valid city name.\n",
    "\n",
    "It's been a little while since we've done this sort of thing. How would we make the program loop over and over again until it gets a valid city?\n",
    "How could we check to see if the city that the user entered was in our city list? Here's a hint:"
   ]
  },
  {
   "cell_type": "code",
   "execution_count": 12,
   "metadata": {},
   "outputs": [
    {
     "data": {
      "text/plain": [
       "False"
      ]
     },
     "execution_count": 12,
     "metadata": {},
     "output_type": "execute_result"
    }
   ],
   "source": [
    "fruit_list = ['apple','pear','peach']\n",
    "'grape' in fruit_list"
   ]
  },
  {
   "cell_type": "code",
   "execution_count": 13,
   "metadata": {},
   "outputs": [],
   "source": [
    "# ask for cities until an entry matches a city in city_list\n",
    "def ask_city():\n",
    "    while True: \n",
    "        city_selection = input('Please enter a valid city:')\n",
    "        if city_selection in city_list:\n",
    "            return city_selection\n",
    "        else:\n",
    "            print('That is not a valid city. Please try again.')"
   ]
  },
  {
   "cell_type": "markdown",
   "metadata": {},
   "source": [
    "#### 2c. Get two unique cities\n",
    "Use ask_city twice to get two cities and assign them to 'city1' and 'city2'."
   ]
  },
  {
   "cell_type": "code",
   "execution_count": 14,
   "metadata": {},
   "outputs": [
    {
     "name": "stdin",
     "output_type": "stream",
     "text": [
      "Please enter a valid city: Dallas\n",
      "Please enter a valid city: Tulsa\n"
     ]
    }
   ],
   "source": [
    "# ask for the user to provide cities\n",
    "city1 = ask_city()\n",
    "city2 = ask_city() "
   ]
  },
  {
   "cell_type": "markdown",
   "metadata": {},
   "source": [
    "#### 2d. Converting our outcome variable\n",
    "To answer our research question we are interested in getting the rates of homicides that are solved. This information is in the column 'disposition'.\n",
    "Take a look at the unique values in the disposition column."
   ]
  },
  {
   "cell_type": "code",
   "execution_count": 15,
   "metadata": {},
   "outputs": [
    {
     "data": {
      "text/plain": [
       "array(['Closed without arrest', 'Closed by arrest', 'Open/No arrest'],\n",
       "      dtype=object)"
      ]
     },
     "execution_count": 15,
     "metadata": {},
     "output_type": "execute_result"
    }
   ],
   "source": [
    "df['disposition'].unique()"
   ]
  },
  {
   "cell_type": "markdown",
   "metadata": {},
   "source": [
    "Notice that there are three outcomes when we really only want two. Make a new column in the dataframe called `'outcome'`, that has the value 'Solved' if the disposition of the case is 'Closed by arrest', otherwise the value should be 'Unsolved'. Then create a new column in the dataframe called 'Outcome' that specifies if the case is 'Solved' or 'Unsolved'."
   ]
  },
  {
   "cell_type": "code",
   "execution_count": 16,
   "metadata": {},
   "outputs": [],
   "source": [
    "# assign disposition status to solved or unsolved outcome\n",
    "def case_status(status):\n",
    "    if status == 'Closed by arrest':\n",
    "        return 'Solved'\n",
    "    else:\n",
    "        return 'Unsolved'\n",
    "    \n",
    "# create a new series (column) that classfies casses as solved or unsolved\n",
    "df['Outcome'] = df['disposition'].map(case_status)"
   ]
  },
  {
   "cell_type": "markdown",
   "metadata": {},
   "source": [
    "#### 2e. Create a new dataframe with only the selected cities\n",
    "Given the tools we have it may be easier to visuzalize the data if we narrow down our data to just the cities the user has selected. Use `query()` and string formatting to make a new dataframe called df_selected_cities. It's probably been a while since you string formatting. Remember that you can use curly braces,`{}`, to insert variables into strings when using `.format()`. "
   ]
  },
  {
   "cell_type": "code",
   "execution_count": 17,
   "metadata": {},
   "outputs": [],
   "source": [
    "# we can select a subset of the data by using query and string formatting\n",
    "df_selected_cities = df.query(\"city == '{}' or city == '{}'\".format(city1, city2))"
   ]
  },
  {
   "cell_type": "markdown",
   "metadata": {},
   "source": [
    "#### 2f. Find the rates \n",
    "We want to make a visualization comparing the rates. To do this we need to compute rates for solved' and unsolved cases. If you remember back to the Titanic exercise, `pd.crosstabs()` gives us a way to create a new dataframe with the rates that we can use for visualizing. Use crosstabs to get the percentages you need then assign the crosstabs result to a new variable called 'df_percent'."
   ]
  },
  {
   "cell_type": "code",
   "execution_count": 18,
   "metadata": {},
   "outputs": [
    {
     "data": {
      "text/html": [
       "<div>\n",
       "<style scoped>\n",
       "    .dataframe tbody tr th:only-of-type {\n",
       "        vertical-align: middle;\n",
       "    }\n",
       "\n",
       "    .dataframe tbody tr th {\n",
       "        vertical-align: top;\n",
       "    }\n",
       "\n",
       "    .dataframe thead th {\n",
       "        text-align: right;\n",
       "    }\n",
       "</style>\n",
       "<table border=\"1\" class=\"dataframe\">\n",
       "  <thead>\n",
       "    <tr style=\"text-align: right;\">\n",
       "      <th>Outcome</th>\n",
       "      <th>Solved</th>\n",
       "      <th>Unsolved</th>\n",
       "    </tr>\n",
       "    <tr>\n",
       "      <th>city</th>\n",
       "      <th></th>\n",
       "      <th></th>\n",
       "    </tr>\n",
       "  </thead>\n",
       "  <tbody>\n",
       "    <tr>\n",
       "      <th>Dallas</th>\n",
       "      <td>0.518826</td>\n",
       "      <td>0.481174</td>\n",
       "    </tr>\n",
       "    <tr>\n",
       "      <th>Tulsa</th>\n",
       "      <td>0.669521</td>\n",
       "      <td>0.330479</td>\n",
       "    </tr>\n",
       "  </tbody>\n",
       "</table>\n",
       "</div>"
      ],
      "text/plain": [
       "Outcome    Solved  Unsolved\n",
       "city                       \n",
       "Dallas   0.518826  0.481174\n",
       "Tulsa    0.669521  0.330479"
      ]
     },
     "execution_count": 18,
     "metadata": {},
     "output_type": "execute_result"
    }
   ],
   "source": [
    "df_percent = pd.crosstab(df_selected_cities['city'], df_selected_cities['Outcome'], normalize = 'index')\n",
    "df_percent"
   ]
  },
  {
   "cell_type": "markdown",
   "metadata": {},
   "source": [
    "#### 2g. Reset the Index \n",
    "If you look at df_percent you will see its a small table that is pretty straightfoward. However, `pd.crosstabs()` has made 'city' the index of the dataframe. It would be easier to plot this table with the tools we've learned if we make 'city' a regular column. To do this, use the `reset_index()` method on 'df' and assign the results to a new dataframe called 'df_percent'. "
   ]
  },
  {
   "cell_type": "code",
   "execution_count": 19,
   "metadata": {},
   "outputs": [
    {
     "data": {
      "text/html": [
       "<div>\n",
       "<style scoped>\n",
       "    .dataframe tbody tr th:only-of-type {\n",
       "        vertical-align: middle;\n",
       "    }\n",
       "\n",
       "    .dataframe tbody tr th {\n",
       "        vertical-align: top;\n",
       "    }\n",
       "\n",
       "    .dataframe thead th {\n",
       "        text-align: right;\n",
       "    }\n",
       "</style>\n",
       "<table border=\"1\" class=\"dataframe\">\n",
       "  <thead>\n",
       "    <tr style=\"text-align: right;\">\n",
       "      <th>Outcome</th>\n",
       "      <th>city</th>\n",
       "      <th>Solved</th>\n",
       "      <th>Unsolved</th>\n",
       "    </tr>\n",
       "  </thead>\n",
       "  <tbody>\n",
       "    <tr>\n",
       "      <th>0</th>\n",
       "      <td>Dallas</td>\n",
       "      <td>0.518826</td>\n",
       "      <td>0.481174</td>\n",
       "    </tr>\n",
       "    <tr>\n",
       "      <th>1</th>\n",
       "      <td>Tulsa</td>\n",
       "      <td>0.669521</td>\n",
       "      <td>0.330479</td>\n",
       "    </tr>\n",
       "  </tbody>\n",
       "</table>\n",
       "</div>"
      ],
      "text/plain": [
       "Outcome    city    Solved  Unsolved\n",
       "0        Dallas  0.518826  0.481174\n",
       "1         Tulsa  0.669521  0.330479"
      ]
     },
     "execution_count": 19,
     "metadata": {},
     "output_type": "execute_result"
    }
   ],
   "source": [
    "# execute this cell before you plot the data\n",
    "df_percent = df_percent.reset_index()\n",
    "df_percent"
   ]
  },
  {
   "cell_type": "markdown",
   "metadata": {},
   "source": [
    "#### 2h. Plot the rates \n",
    "Use a bar chart with 'df_percent' to plot the Solved and Unsolved rates of both cities on a single plot. Note: Try using the \" align = 'edge' \" argument with `plt.bar` to get the bars to align over the cities."
   ]
  },
  {
   "cell_type": "code",
   "execution_count": 20,
   "metadata": {},
   "outputs": [
    {
     "data": {
      "image/png": "[encoded data removed]",
      "text/plain": [
       "<Figure size 1500x900 with 1 Axes>"
      ]
     },
     "metadata": {},
     "output_type": "display_data"
    }
   ],
   "source": [
    "# use matplotlib to make the bar charts, note the addition of width and align, if these are not included\n",
    "# matplotlib will display the bars over one another\n",
    "plt.bar(x = 'city' , height = 'Solved' , width = 0.2 , data = df_percent, align = 'edge')\n",
    "plt.bar(x = 'city' , height = 'Unsolved' , width = -0.2, data = df_percent, align = 'edge')\n",
    "plt.ylabel('Outcome %')\n",
    "plt.legend(['Solved','Unsolved'])\n",
    "plt.title('Homicide Investigation Outcomes: {} and {}'.format(city1, city2))\n",
    "plt.show()"
   ]
  },
  {
   "cell_type": "markdown",
   "metadata": {},
   "source": [
    "#### 2i. Test your code. Find the bugs.\n",
    "Rerun your code above to try out comparisons between several different cities. What happens if you enter the same city twice? Could you fix the code so this can't happen?"
   ]
  },
  {
   "cell_type": "markdown",
   "metadata": {},
   "source": [
    "***\n",
    "### Examining Homicides in Chicago\n",
    "#### 3. Use descriptive statistics and visualizations to explore the role of ethnicity, sex, age, and year in homicide investigations in Chicago. \n",
    "Now its up to you. Use the tools we have worked with above to examine homicides in Chicago."
   ]
  },
  {
   "cell_type": "code",
   "execution_count": 22,
   "metadata": {},
   "outputs": [],
   "source": [
    "# write and test your code here"
   ]
  },
  {
   "cell_type": "markdown",
   "metadata": {},
   "source": [
    "***\n",
    "### Example: Using Map"
   ]
  },
  {
   "cell_type": "code",
   "execution_count": 21,
   "metadata": {},
   "outputs": [],
   "source": [
    "df_grads = pd.read_csv('recent-grads.csv')\n",
    "\n",
    "def get_major_length(major):\n",
    "    major_length = len(major)\n",
    "    return major_length\n",
    "\n",
    "df_grads['Major_Length'] = df_grads['Major'].map(get_major_length)"
   ]
  },
  {
   "cell_type": "code",
   "execution_count": 23,
   "metadata": {},
   "outputs": [],
   "source": [
    "# write and test your code here"
   ]
  },
  {
   "cell_type": "code",
   "execution_count": 24,
   "metadata": {},
   "outputs": [],
   "source": [
    "# write and test your code here"
   ]
  }
 ],
 "metadata": {
  "kernelspec": {
   "display_name": "Python 3",
   "language": "python",
   "name": "python3"
  },
  "language_info": {
   "codemirror_mode": {
    "name": "ipython",
    "version": 3
   },
   "file_extension": ".py",
   "mimetype": "text/x-python",
   "name": "python",
   "nbconvert_exporter": "python",
   "pygments_lexer": "ipython3",
   "version": "3.6.5"
  }
 },
 "nbformat": 4,
 "nbformat_minor": 2
}
