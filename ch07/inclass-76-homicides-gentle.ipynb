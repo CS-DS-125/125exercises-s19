{
 "cells": [
  {
   "cell_type": "markdown",
   "metadata": {},
   "source": [
    "# In Class Exercise 7.6 - Homicides\n",
    "We are going practice integrating what we have learned this semester. This exercise will help you practice thinking about problems and coding solutions. "
   ]
  },
  {
   "cell_type": "markdown",
   "metadata": {},
   "source": [
    "## Imports and Dataframe"
   ]
  },
  {
   "cell_type": "code",
   "execution_count": null,
   "metadata": {},
   "outputs": [],
   "source": [
    "import pandas as pd\n",
    "import matplotlib.pyplot as plt\n",
    "import seaborn as sns"
   ]
  },
  {
   "cell_type": "code",
   "execution_count": null,
   "metadata": {},
   "outputs": [],
   "source": [
    "# For slightly nicer charts\n",
    "plt.rcParams['figure.figsize'] = [10, 6]\n",
    "plt.rcParams['figure.dpi'] = 150\n",
    "sns.set(style=\"ticks\")"
   ]
  },
  {
   "cell_type": "markdown",
   "metadata": {},
   "source": [
    "***\n",
    "## Washington Post Unsolved Homicides\n",
    "The dataset title `'homicide-revised.csv'` is adapted from a dataset developed by the Washington Post for [this article](https://www.washingtonpost.com/graphics/2018/investigations/where-murders-go-unsolved/?noredirect=on&utm_term=.e03c4dc31643) that examined unsolved homicides in the United States. First, make a dataframe called 'df' from the csv."
   ]
  },
  {
   "cell_type": "code",
   "execution_count": null,
   "metadata": {},
   "outputs": [],
   "source": [
    "# write and test your code here"
   ]
  },
  {
   "cell_type": "markdown",
   "metadata": {},
   "source": [
    "***\n",
    "### Cities with Youngest and Cities with the Oldest Victims\n",
    "We want to know the three cities with the youngest victims on average and the three cities with the oldest victims on average.\n",
    "Each row of the dataframe represents one homicide. In each row there is information about city and the age that we can use to answer our questions.\n",
    "Before we get going with our analysis we need to check the data.\n",
    "\n",
    "#### 1a. Examine columns names and datatypes.\n",
    "Use `info()` to look at the column names and look at the datatypes. "
   ]
  },
  {
   "cell_type": "code",
   "execution_count": null,
   "metadata": {},
   "outputs": [],
   "source": [
    "# write and test your code here"
   ]
  },
  {
   "cell_type": "markdown",
   "metadata": {},
   "source": [
    "Notice that victim_age is a non-null object. We would probably expect that to be an integer or a float. This probably isn't a clean dataset. We have some work ahead of us. \n",
    "\n",
    "#### 1b. Examine 'victim_age'.\n",
    "Use `describe()` to see if you can get a better sense of what's in this column."
   ]
  },
  {
   "cell_type": "code",
   "execution_count": null,
   "metadata": {},
   "outputs": [],
   "source": [
    "# write and test your code here"
   ]
  },
  {
   "cell_type": "markdown",
   "metadata": {},
   "source": [
    "So the the 'victim_age' series has 52179 rows and 102 unique values. However, the most commonly occurring value is 'Unknown' which occurred 2999 times.\n",
    "We are not going to be able to calculate much with 'Unknown' sitting in the column. "
   ]
  },
  {
   "cell_type": "markdown",
   "metadata": {},
   "source": [
    "#### 1c. Write a function to exclude 'Unknown'\n",
    "The remove_unknown function should take a single value called 'value' and then returns None if the value in 'Unknown'. If the value is not 'Unknown' the function will return the value as an integer (remember the `int()` function)?"
   ]
  },
  {
   "cell_type": "code",
   "execution_count": null,
   "metadata": {},
   "outputs": [],
   "source": [
    "# write and test your code here"
   ]
  },
  {
   "cell_type": "markdown",
   "metadata": {},
   "source": [
    "#### 1d. Make a new column \n",
    "The new column should be called 'age' and should contain only integers from the 'victim_age' column. Use `map()` and `remove_unknown()` to create the column.\n",
    "For a reminder of how `map()` works, an example has been included at the bottom of this notebook.\n"
   ]
  },
  {
   "cell_type": "code",
   "execution_count": null,
   "metadata": {},
   "outputs": [],
   "source": [
    "# write and test your code here"
   ]
  },
  {
   "cell_type": "markdown",
   "metadata": {},
   "source": [
    "#### 1e. Analysis using 'age'. \n",
    "So now we should be able to answer our original question about the three cities with the youngest and oldest homicide victims. As you do this, remember that each row is a homicide, not a city, so you will need to aggregate the data somehow... "
   ]
  },
  {
   "cell_type": "code",
   "execution_count": null,
   "metadata": {},
   "outputs": [],
   "source": [
    "# write and test your code here"
   ]
  },
  {
   "cell_type": "markdown",
   "metadata": {},
   "source": [
    "#### 1f. Mystery NaN values. \n",
    "If you used groupby and sort_values to solve the problem above its likely that you noticed that Dallas and Phoenix both have NaN values for their mean age. That should get your attention. We know there were some NaN values in the age series (coming from the None values we returned in our function) but our analysis doesn't have trouble with other cities (such as Albuquerque). \n",
    "\n",
    "Use your coding tools to look at the series and see if you can figure out how Dallas and Phoenix are different. Try not to just scroll through the whole dataset manually. Its huge, and won't help you practice thinking about coding."
   ]
  },
  {
   "cell_type": "code",
   "execution_count": null,
   "metadata": {},
   "outputs": [],
   "source": [
    "# why do Dallas and Phoenix return NaN when we use groupby() and mean()?\n",
    "# write and test your code here"
   ]
  },
  {
   "cell_type": "markdown",
   "metadata": {},
   "source": [
    "#### 1g. Creating a new dataframe with no NaN.\n",
    "So let's say you looked at your data in detail and you decide to drop any rows where the age is NaN. Using the tools we have so far, how could we do this? One way would be to use `.query()`. See if you can figure out how to use query to create a new dataset that only contains rows with age values."
   ]
  },
  {
   "cell_type": "code",
   "execution_count": null,
   "metadata": {},
   "outputs": [],
   "source": [
    "# write and test your code here"
   ]
  },
  {
   "cell_type": "markdown",
   "metadata": {},
   "source": [
    "***\n",
    "### Visualizing Solved and Unsolved Homicide Rates in Two Cities\n",
    "Our new goal: Write a program that allows a user to select two separate cities and then compares those two city's rates of solved and unsolved homicides using a single visualization. Note! The rate here refers to the percentage of total homicides that are solved or unsolved. \n",
    "\n",
    "#### 2a. Identify the Cities a User Could Pick From\n",
    "Let's create new variable called 'city_list' that contains the unique city values as a list. After that, write a function called print_cities that takes the city_list as an argument, and prints instructions (for the user telling them they choose from the following list) and then the city_list. "
   ]
  },
  {
   "cell_type": "code",
   "execution_count": null,
   "metadata": {},
   "outputs": [],
   "source": [
    "# write and test your code here"
   ]
  },
  {
   "cell_type": "markdown",
   "metadata": {},
   "source": [
    "#### 2b. Ask the user to enter a city and check to see if its a valid city\n",
    "Write a function called `ask_city` that asks for the user to input a city, checks to make sure the input is a valid city listed in the dataset, prompts for another entry if it is not, and returns the valid city name.\n",
    "\n",
    "It's been a little while since we've done this sort of thing. How would we make the program loop over and over again until it gets a valid city?\n",
    "How could we check to see if the city that the user entered was in our city list? Here's a hint:"
   ]
  },
  {
   "cell_type": "code",
   "execution_count": null,
   "metadata": {},
   "outputs": [],
   "source": [
    "fruit_list = ['apple','pear','peach']\n",
    "'grape' in fruit_list"
   ]
  },
  {
   "cell_type": "code",
   "execution_count": null,
   "metadata": {},
   "outputs": [],
   "source": [
    "# write and test your code here"
   ]
  },
  {
   "cell_type": "markdown",
   "metadata": {},
   "source": [
    "#### 2c. Get two unique cities\n",
    "Use ask_city twice to get two cities and assign them to 'city1' and 'city2'."
   ]
  },
  {
   "cell_type": "code",
   "execution_count": null,
   "metadata": {},
   "outputs": [],
   "source": [
    "# write and test your code here"
   ]
  },
  {
   "cell_type": "markdown",
   "metadata": {},
   "source": [
    "#### 2d. Converting our outcome variable\n",
    "To answer our research question we are interested in getting the rates of homicides that are solved. This information is in the column 'disposition'.\n",
    "Take a look at the unique values in the disposition column."
   ]
  },
  {
   "cell_type": "code",
   "execution_count": null,
   "metadata": {},
   "outputs": [],
   "source": [
    "# write and test your code here"
   ]
  },
  {
   "cell_type": "markdown",
   "metadata": {},
   "source": [
    "Notice that there are three outcomes when we really only want two. Make a new column in the dataframe called `'outcome'`, that has the value 'Solved' if the disposition of the case is 'Closed by arrest', otherwise the value should be 'Unsolved'. Then create a new column in the dataframe called 'Outcome' that specifies if the case is 'Solved' or 'Unsolved'."
   ]
  },
  {
   "cell_type": "code",
   "execution_count": null,
   "metadata": {},
   "outputs": [],
   "source": [
    "# write and test your code here"
   ]
  },
  {
   "cell_type": "markdown",
   "metadata": {},
   "source": [
    "#### 2e. Create a new dataframe with only the selected cities\n",
    "Given the tools we have it may be easier to visuzalize the data if we narrow down our data to just the cities the user has selected. Use `query()` and string formatting to make a new dataframe called df_selected_cities. It's probably been a while since you string formatting. Remember that you can use curly braces,`{}`, to insert variables into strings when using `.format()`. "
   ]
  },
  {
   "cell_type": "code",
   "execution_count": null,
   "metadata": {},
   "outputs": [],
   "source": [
    "# write and test your code here"
   ]
  },
  {
   "cell_type": "markdown",
   "metadata": {},
   "source": [
    "#### 2f. Find the rates \n",
    "We want to make a visualization comparing the rates. To do this we need to compute rates for solved' and unsolved cases. If you remember back to the Titanic exercise, `pd.crosstabs()` gives us a way to create a new dataframe with the rates that we can use for visualizing. Use crosstabs to get the percentages you need then assign the crosstabs result to a new variable called 'df_percent'."
   ]
  },
  {
   "cell_type": "code",
   "execution_count": null,
   "metadata": {},
   "outputs": [],
   "source": [
    "# write and test your code here"
   ]
  },
  {
   "cell_type": "markdown",
   "metadata": {},
   "source": [
    "#### 2g. Reset the Index \n",
    "If you look at df_percent you will see its a small table that is pretty straightfoward. However, `pd.crosstabs()` has made 'city' the index of the dataframe. It would be easier to plot this table with the tools we've learned if we make 'city' a regular column. To do this, use the `reset_index()` method on 'df' and assign the results to a new dataframe called 'df_percent'. "
   ]
  },
  {
   "cell_type": "code",
   "execution_count": null,
   "metadata": {},
   "outputs": [],
   "source": [
    "# write and test your code here"
   ]
  },
  {
   "cell_type": "markdown",
   "metadata": {},
   "source": [
    "#### 2h. Plot the rates \n",
    "Use a bar chart with 'df_percent' to plot the Solved and Unsolved rates of both cities on a single plot. Note: Try using the \" align = 'edge' \" argument with `plt.bar` to get the bars to align over the cities."
   ]
  },
  {
   "cell_type": "code",
   "execution_count": null,
   "metadata": {},
   "outputs": [],
   "source": [
    "# write and test your code here"
   ]
  },
  {
   "cell_type": "markdown",
   "metadata": {},
   "source": [
    "#### 2i. Test your code. Find the bugs.\n",
    "Rerun your code above to try out comparisons between several different cities. What happens if you enter the same city twice? Could you fix the code so this can't happen?"
   ]
  },
  {
   "cell_type": "markdown",
   "metadata": {},
   "source": [
    "***\n",
    "### Examining Homicides in Chicago\n",
    "#### 3. Use descriptive statistics and visualizations to explore the role of ethnicity, sex, age, and year in homicide investigations in Chicago. \n",
    "Now its up to you. Use the tools we have worked with above to examine homicides in Chicago."
   ]
  },
  {
   "cell_type": "code",
   "execution_count": null,
   "metadata": {},
   "outputs": [],
   "source": [
    "# write and test your code here"
   ]
  },
  {
   "cell_type": "markdown",
   "metadata": {},
   "source": [
    "***\n",
    "### Example: Using Map"
   ]
  },
  {
   "cell_type": "code",
   "execution_count": null,
   "metadata": {},
   "outputs": [],
   "source": [
    "df_grads = pd.read_csv('recent-grads.csv')\n",
    "\n",
    "def get_major_length(major):\n",
    "    major_length = len(major)\n",
    "    return major_length\n",
    "\n",
    "df_grads['Major_Length'] = df_grads['Major'].map(get_major_length)"
   ]
  }
 ],
 "metadata": {
  "kernelspec": {
   "display_name": "Python 3",
   "language": "python",
   "name": "python3"
  },
  "language_info": {
   "codemirror_mode": {
    "name": "ipython",
    "version": 3
   },
   "file_extension": ".py",
   "mimetype": "text/x-python",
   "name": "python",
   "nbconvert_exporter": "python",
   "pygments_lexer": "ipython3",
   "version": "3.6.5"
  }
 },
 "nbformat": 4,
 "nbformat_minor": 2
}
