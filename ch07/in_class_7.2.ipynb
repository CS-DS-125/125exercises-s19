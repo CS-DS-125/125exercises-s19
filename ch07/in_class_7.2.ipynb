{
 "cells": [
  {
   "cell_type": "markdown",
   "metadata": {},
   "source": [
    "# Manipulating Data and Dataframes\n",
    "Hopefully you have some sense of why you might want to use a dataframe to work with your data (rather than something like a list or an array). You could do all of the things we've done with lists or arrays, but if you're working with lots of data the dataframe object makes our work more efficient. Now we are going to look at some really basic ways of working with your dataframe.\n",
    "\n",
    "\n",
    "The specific dataframe methods we will use that we haven't covered before are:\n",
    "\n",
    "* `info()`\n",
    "* `cut()`\n",
    "* `drop()`\n",
    "* `copy()`\n",
    "* `columns()`\n",
    "* `tolist()`"
   ]
  },
  {
   "cell_type": "markdown",
   "metadata": {},
   "source": [
    "***\n",
    "First, some imports and some code to make our charts look nicer."
   ]
  },
  {
   "cell_type": "code",
   "execution_count": null,
   "metadata": {},
   "outputs": [],
   "source": [
    "import pandas as pd\n",
    "import numpy as np\n",
    "import matplotlib.pyplot as plt"
   ]
  },
  {
   "cell_type": "code",
   "execution_count": null,
   "metadata": {},
   "outputs": [],
   "source": [
    "# For slightly nicer charts\n",
    "plt.rcParams['figure.figsize'] = [10, 5]\n",
    "plt.rcParams['figure.dpi'] = 150"
   ]
  },
  {
   "cell_type": "markdown",
   "metadata": {},
   "source": [
    "***\n",
    "## Getting Detailed Information about our Dataframe\n",
    "So far we have used `head()`, `tail()`, and `shape()` to get quick information about our dataframe. There's one more method we haven't covered that is useful; `info()` is a method that provides detailed information about each data column and its type.\n",
    "\n",
    "\n",
    "Here we read in a dataset of fictional course grades, assign it to the variable `df`, and then examine it with `info()`."
   ]
  },
  {
   "cell_type": "code",
   "execution_count": null,
   "metadata": {},
   "outputs": [],
   "source": [
    "df = pd.read_csv(\"grades-all.csv\")\n",
    "df.info()"
   ]
  },
  {
   "cell_type": "markdown",
   "metadata": {},
   "source": [
    "What is all this telling us? First, the dataframe has 18 entries (or rows). There are 19 columns of data, two of them are 'object' datatypes, one an integer ('int64') and the rest are floats ('float64'). We haven't paid attention to the datatypes of the columns in our datasets so far because the data was clean. When we start working with real-world data it will be important to check that the datatypes are what you are expecting. For example, if a column should be a float or an integer but its listed as an object, it's likely that you have strings characters in your dataset mixed in with your numerics. "
   ]
  },
  {
   "cell_type": "markdown",
   "metadata": {},
   "source": [
    "***\n",
    "## Simple Indexing with Labels"
   ]
  },
  {
   "cell_type": "markdown",
   "metadata": {},
   "source": [
    "Up to this point we have been using code that looks like this `df['Year']` but not thinking too much about it. We've described this as reading columns of data to pass to a method but have not talked any specifics. It's time to dig into this a bit. \n",
    "\n",
    "'Year' in this example might be referred to as a column name or a column label. What we've been doing is selecting data we want to work with by using the label, this is known as indexing. \n",
    "\n",
    "So let's see what happends when we index a datframe without calling any methods."
   ]
  },
  {
   "cell_type": "code",
   "execution_count": null,
   "metadata": {},
   "outputs": [],
   "source": [
    "df['Q1']"
   ]
  },
  {
   "cell_type": "markdown",
   "metadata": {},
   "source": [
    "This is something called a pandas series. The sequential numbers to the left is the series index. The numbers to the right are the values. One way to think of a dataframe is as a collection of series objects. Indexing gives us access to individual series or group of series within a dataframe.\n",
    "\n",
    "The ususal methods can be applied to the series object."
   ]
  },
  {
   "cell_type": "code",
   "execution_count": null,
   "metadata": {},
   "outputs": [],
   "source": [
    "df['Q1'].mean()"
   ]
  },
  {
   "cell_type": "code",
   "execution_count": null,
   "metadata": {},
   "outputs": [],
   "source": [
    "df['Q1'].sum()"
   ]
  },
  {
   "cell_type": "markdown",
   "metadata": {},
   "source": [
    "We can also use variables as labels for indexing."
   ]
  },
  {
   "cell_type": "code",
   "execution_count": null,
   "metadata": {},
   "outputs": [],
   "source": [
    "quiz = 'Q1'\n",
    "df[quiz].sum()"
   ]
  },
  {
   "cell_type": "markdown",
   "metadata": {},
   "source": [
    "If we specify a label that doesn't currently exist we create new columns in our data frame."
   ]
  },
  {
   "cell_type": "code",
   "execution_count": null,
   "metadata": {},
   "outputs": [],
   "source": [
    "df['New Column!'] = 0\n",
    "df.head()"
   ]
  },
  {
   "cell_type": "markdown",
   "metadata": {},
   "source": [
    "We can also assign new values to existing columns using labels."
   ]
  },
  {
   "cell_type": "code",
   "execution_count": null,
   "metadata": {},
   "outputs": [],
   "source": [
    "df['New Column!'] = 'data!'\n",
    "df.head()"
   ]
  },
  {
   "cell_type": "markdown",
   "metadata": {},
   "source": [
    "We can also use this type of indexing to do operations on columns."
   ]
  },
  {
   "cell_type": "code",
   "execution_count": null,
   "metadata": {},
   "outputs": [],
   "source": [
    "df['Exam_Avg'] = (df['Exam1'] + df['Exam2'])/2\n",
    "df.head()"
   ]
  },
  {
   "cell_type": "markdown",
   "metadata": {},
   "source": [
    "Here's where things get more interesting. We can pass lists of labels to index multiple columns."
   ]
  },
  {
   "cell_type": "code",
   "execution_count": null,
   "metadata": {},
   "outputs": [],
   "source": [
    "exam_list = ['Exam1', 'Exam2']\n",
    "df[exam_list].mean()"
   ]
  },
  {
   "cell_type": "markdown",
   "metadata": {},
   "source": [
    "We can also pass the list directly."
   ]
  },
  {
   "cell_type": "code",
   "execution_count": null,
   "metadata": {},
   "outputs": [],
   "source": [
    "df[['Project1', 'Project2']].mean()"
   ]
  },
  {
   "cell_type": "markdown",
   "metadata": {},
   "source": [
    "It looks like 'Project 1' was entered as raw points out of 12; while 'Project 2' was entered as percentages. We can fix that with some simple operations. "
   ]
  },
  {
   "cell_type": "code",
   "execution_count": null,
   "metadata": {},
   "outputs": [],
   "source": [
    "df['Project1'] = (df['Project1']/12)*100\n",
    "df.head()"
   ]
  },
  {
   "cell_type": "markdown",
   "metadata": {},
   "source": [
    "And while we are at it, let's convert the quiz grades to percentages as well. It looks like they were also out of 12 points."
   ]
  },
  {
   "cell_type": "code",
   "execution_count": null,
   "metadata": {},
   "outputs": [],
   "source": [
    "quiz_list = ['Q1', 'Q2', 'Q3', 'Q4', 'Q5', 'Q6', 'Q7', 'Q8', 'Q9','Q10']\n",
    "df[quiz_list] = (df[quiz_list]/12) * 100\n",
    "df.head()"
   ]
  },
  {
   "cell_type": "markdown",
   "metadata": {},
   "source": [
    "Notice how we used the list above to apply the same operation to all of the data columns in the list. That is a short bit of code that is doing quite a bit. "
   ]
  },
  {
   "cell_type": "markdown",
   "metadata": {},
   "source": [
    "## Creating New Dataframes with Indexing\n",
    "We can use indexing to create new dataframes. You might notice the `copy()` method used below. It is making a new copy of the dataframe, instead of just showing us part of the existing dataframe (called a view). We will discuss why you would want to do this in more detail later."
   ]
  },
  {
   "cell_type": "code",
   "execution_count": null,
   "metadata": {},
   "outputs": [],
   "source": [
    "copy_list = ['StudentID', 'Q1', 'Q2', 'Q3', 'Q4', 'Q5', 'Q6', 'Q7', 'Q8', 'Q9','Q10']\n",
    "dfquiz = df[copy_list].copy()\n",
    "dfquiz.head()"
   ]
  },
  {
   "cell_type": "markdown",
   "metadata": {},
   "source": [
    "We can index using the same list of quizzes, calculate an overall mean (across the columns using axis=1), and assign that to a new series we create called 'Quiz Avg'."
   ]
  },
  {
   "cell_type": "code",
   "execution_count": null,
   "metadata": {},
   "outputs": [],
   "source": [
    "quiz_list = copy_list[1:]\n",
    "dfquiz['Quiz Avg'] = dfquiz[quiz_list].mean(axis=1)\n",
    "dfquiz.head()"
   ]
  },
  {
   "cell_type": "markdown",
   "metadata": {},
   "source": [
    "Now, just for fun, let's say we want to assign letter grades based on the average. There's a method called `cut()` that allows us to specify the bins we would like (ranges) and then supply labels for those bins. In this case the labels are letter grades. "
   ]
  },
  {
   "cell_type": "code",
   "execution_count": null,
   "metadata": {},
   "outputs": [],
   "source": [
    "dfquiz['Quiz_Avg_Letter'] = pd.cut(dfquiz['Quiz Avg'], bins=[0, 60, 70, 80, 90, 100], labels= ['F', 'D', 'C', 'B', 'A'])\n",
    "dfquiz.head()"
   ]
  },
  {
   "cell_type": "markdown",
   "metadata": {},
   "source": [
    "## Reordering Columns\n",
    "We can also use labels to reorder columns. Let's say we weant to move the Quiz Averages to the front (left-most) of the dataframe. To accomplish this we will first use the `columns()` method will return an object with all of the column labels."
   ]
  },
  {
   "cell_type": "code",
   "execution_count": null,
   "metadata": {},
   "outputs": [],
   "source": [
    "dfquiz.columns"
   ]
  },
  {
   "cell_type": "markdown",
   "metadata": {},
   "source": [
    "Second, we can then apply the `tolist()` method to convert the object returned by columns in to a list. We then assign that list to the variable 'column_labels'."
   ]
  },
  {
   "cell_type": "code",
   "execution_count": null,
   "metadata": {},
   "outputs": [],
   "source": [
    "column_order = dfquiz.columns.tolist()\n",
    "column_order"
   ]
  },
  {
   "cell_type": "markdown",
   "metadata": {},
   "source": [
    "We can reorder the items in the list and then use that list to reorder the dataframe itself. We can reorder the list by changing the list ourselves.\n",
    "We then use the reordered lists to reorder our dataframe."
   ]
  },
  {
   "cell_type": "code",
   "execution_count": null,
   "metadata": {},
   "outputs": [],
   "source": [
    "column_order1 = ['Quiz Avg', 'Quiz_Avg_Letter','StudentID', 'Q1', 'Q2', 'Q3', 'Q4', 'Q5', 'Q6', 'Q7', 'Q8', 'Q9', 'Q10']\n",
    "dfquiz_reordered1 = dfquiz[column_order1].copy()\n",
    "dfquiz_reordered1.head()"
   ]
  },
  {
   "cell_type": "markdown",
   "metadata": {},
   "source": [
    "Or we can use list methods to slice and recombine the column list to accomplish the same thing."
   ]
  },
  {
   "cell_type": "code",
   "execution_count": null,
   "metadata": {},
   "outputs": [],
   "source": [
    "column_order2 = column_order[-2:] + column_order[:-2]\n",
    "column_order2"
   ]
  },
  {
   "cell_type": "markdown",
   "metadata": {},
   "source": [
    "We then use the reordered list to reorder our dataframe."
   ]
  },
  {
   "cell_type": "code",
   "execution_count": null,
   "metadata": {},
   "outputs": [],
   "source": [
    "dfquiz_reordered2 = dfquiz[column_order2].copy()\n",
    "dfquiz_reordered2.head()"
   ]
  },
  {
   "cell_type": "markdown",
   "metadata": {},
   "source": [
    "## Removing Columns\n",
    "We can also use labels to remove columns. The `drop()` method will take a label, or list of labels, and drop them from the dataframe. `drop()` can be used to remove rows as well so we have to tell is to specifically look for a column with the label we specified. We tell it to look for column by specifying `axis=1` (we would use `axis=0` if we wanted to drop rows)."
   ]
  },
  {
   "cell_type": "code",
   "execution_count": null,
   "metadata": {},
   "outputs": [],
   "source": [
    "df_dropped = df.drop('New Column!', axis=1)\n",
    "df_dropped.head()"
   ]
  },
  {
   "cell_type": "markdown",
   "metadata": {},
   "source": [
    "## In Class Exercise\n",
    "\n",
    "Work with the existing dataframe 'df' to calculate final course averages and final letter grades for every student in the class. Your letter grades should include plusses and minuses. \n",
    "\n",
    "\n",
    "For this fictional course: \n",
    "* Quizzes collectively count for 30% of the final grade\n",
    "* Projects count for 10% each\n",
    "* Labs count for 5%\n",
    "* Attendance counts for 5%\n",
    "* Exams for 20% each.\n",
    "\n",
    "\n",
    "After you've calculated the final outcomes make descriptive statistics and visualizations that compare the students course performance by first by major, then by year, then major by year. \n",
    "\n"
   ]
  },
  {
   "cell_type": "code",
   "execution_count": null,
   "metadata": {},
   "outputs": [],
   "source": [
    "# write and test your code here"
   ]
  }
 ],
 "metadata": {
  "kernelspec": {
   "display_name": "Python 3",
   "language": "python",
   "name": "python3"
  },
  "language_info": {
   "codemirror_mode": {
    "name": "ipython",
    "version": 3
   },
   "file_extension": ".py",
   "mimetype": "text/x-python",
   "name": "python",
   "nbconvert_exporter": "python",
   "pygments_lexer": "ipython3",
   "version": "3.6.5"
  }
 },
 "nbformat": 4,
 "nbformat_minor": 2
}
