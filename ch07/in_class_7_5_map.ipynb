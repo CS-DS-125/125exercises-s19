{
 "cells": [
  {
   "cell_type": "markdown",
   "metadata": {},
   "source": [
    "# In Class Exercise: Let's Practice Map()"
   ]
  },
  {
   "cell_type": "code",
   "execution_count": 2,
   "metadata": {},
   "outputs": [],
   "source": [
    "import pandas as pd"
   ]
  },
  {
   "cell_type": "markdown",
   "metadata": {},
   "source": [
    "## Map Example From Assignment 6"
   ]
  },
  {
   "cell_type": "code",
   "execution_count": 5,
   "metadata": {},
   "outputs": [
    {
     "data": {
      "text/plain": [
       "201711.40927895982"
      ]
     },
     "execution_count": 5,
     "metadata": {},
     "output_type": "execute_result"
    }
   ],
   "source": [
    "df_cars = pd.read_csv('cars.csv')\n",
    "\n",
    "# Define a function with one parameter (it will take one value at a time) that returns a new value.\n",
    "# Here, the function takes a horsepower value and returns that value converted to watts.\n",
    "def hp_to_watts(hp_value):\n",
    "    watts = hp_value * 745.7\n",
    "    return watts\n",
    "\n",
    "# Apply the hp_to_watts() function to every value in the 'Horsepower' column,\n",
    "# and save the result in a new 'Watts' column.\n",
    "# Note that we are passing the function we just defined as an argument by writing\n",
    "# its name *without* parentheses after it.  We don't want to call hp_to_watts here,\n",
    "# we just want to give it to the .map() method to use.\n",
    "df_cars['Watts (new)'] = df_cars['Horsepower'].map(hp_to_watts)\n",
    "\n",
    "df_cars['Watts (new)'].mean()"
   ]
  },
  {
   "cell_type": "markdown",
   "metadata": {},
   "source": [
    "## Example with Text Processing: Are Longer Major Names Associated with Higher Median Income?"
   ]
  },
  {
   "cell_type": "code",
   "execution_count": 14,
   "metadata": {},
   "outputs": [
    {
     "data": {
      "text/plain": [
       "-0.014064171608742146"
      ]
     },
     "execution_count": 14,
     "metadata": {},
     "output_type": "execute_result"
    }
   ],
   "source": [
    "df_grads = pd.read_csv('recent-grads.csv')\n",
    "\n",
    "df_grads.head()\n",
    "\n",
    "def get_major_length(major):\n",
    "    major_length = len(major)\n",
    "    return major_length\n",
    "\n",
    "df_grads['Major_Length'] = df_grads['Major'].map(get_major_length)\n",
    "\n",
    "df_grads['Major_Length'].corr(df_grads['Median'])"
   ]
  }
 ],
 "metadata": {
  "kernelspec": {
   "display_name": "Python 3",
   "language": "python",
   "name": "python3"
  },
  "language_info": {
   "codemirror_mode": {
    "name": "ipython",
    "version": 3
   },
   "file_extension": ".py",
   "mimetype": "text/x-python",
   "name": "python",
   "nbconvert_exporter": "python",
   "pygments_lexer": "ipython3",
   "version": "3.6.5"
  }
 },
 "nbformat": 4,
 "nbformat_minor": 2
}
