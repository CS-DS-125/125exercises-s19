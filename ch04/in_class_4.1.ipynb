{
 "cells": [
  {
   "cell_type": "markdown",
   "metadata": {},
   "source": [
    "# Pizza Calculations\n",
    "\n",
    "Relevant resources:\n",
    " * [Python & Pandas Field Guide: Chapter 4](https://snakebear.science/04-Functions/toctree.html)\n",
    " * [Documentation for Python's `math` module](https://docs.python.org/3/library/math.html)\n",
    "\n",
    "You have a new startup business that aims to disrupt the pizza world by selling square pizzas.  You want your pizzas to have the same total area as the boring round pizzas your competitors sell, so you decide to write a program to help you calculate the size of a square pizza that will match the size of a round pizza with a given radius.  The idea is you can measure the radius of a competitor's pizza, plug that into your program, and get the width and height your square pizza should be to match it.\n",
    "\n",
    "You know that the area of a round pizza, given a radius $r$ is:\n",
    "\n",
    "$$A = \\pi r^2$$\n",
    "\n",
    "And you know that given an area $A$, you can compute the length $l$ of a side of a square with equal area as:\n",
    "\n",
    "$$l = \\sqrt{A}$$\n",
    "\n",
    "The following steps will walk you through a few different versions of the program."
   ]
  },
  {
   "cell_type": "markdown",
   "metadata": {},
   "source": [
    "Your program will probably need to import a library.  Remember that import statements are always put at the top of a program, and in a notebook, there is usually one cell at the top that includes all the import statements for the entire notebook.  Use the cell below for any import statements you need for this notebook."
   ]
  },
  {
   "cell_type": "code",
   "execution_count": null,
   "metadata": {},
   "outputs": [],
   "source": [
    "# Write import statements here"
   ]
  },
  {
   "cell_type": "markdown",
   "metadata": {},
   "source": [
    "## Part 1\n",
    "\n",
    "First, write a program that:\n",
    "1. Asks the user to enter a pizza radius,\n",
    "2. Computes the area of a round pizza with that radius,\n",
    "3. Computes the length of a side of an equivalent square pizza, and\n",
    "4. Prints out that length.\n",
    "\n",
    "Remember, the `math` module contains functions like square roots and values like $\\pi$.\n",
    "\n",
    "For example:\n",
    "\n",
    "```\n",
    "Please enter the radius of the pizza (in inches): 6\n",
    "\n",
    "An equivalent square pizza will be 10.634723105433096 inches on a side.\n",
    "```"
   ]
  },
  {
   "cell_type": "code",
   "execution_count": null,
   "metadata": {},
   "outputs": [],
   "source": [
    "# Write and test your code here."
   ]
  },
  {
   "cell_type": "markdown",
   "metadata": {},
   "source": [
    "## Part 2\n",
    "\n",
    "Now you might want to **reuse** the code you just wrote in Part 1 as part of a larger program.  Maybe the program will perform a wide range of pizza-related calculations, and this is just one of many.  To make it easier to reuse the code you wrote, you can put it in a function.\n",
    "\n",
    "The syntax for defining a basic function is:\n",
    "```\n",
    "def <function name>():\n",
    "    <body>\n",
    "```\n",
    "\n",
    "Whatever code you put in the body of the function will be stored with the given name, and you can call the function by writing that name followed by parentheses, just like we call any of the built-in functions in Python.\n",
    "\n",
    "Write a function named `calc_length()` that includes the code from Part 1.  Usually, we want to define a function in a cell by itself, so only include the function definition below &mdash; we can use another cell to test it."
   ]
  },
  {
   "cell_type": "code",
   "execution_count": null,
   "metadata": {},
   "outputs": [],
   "source": [
    "# Write your calc_length() function here.  Remember to execute the cell to define it."
   ]
  },
  {
   "cell_type": "markdown",
   "metadata": {},
   "source": [
    "Test your `calc_length()` function in the cell below by calling it twice.  It should repeat the input/calculate/output sequence of your code from Part 1 twice."
   ]
  },
  {
   "cell_type": "code",
   "execution_count": null,
   "metadata": {},
   "outputs": [],
   "source": [
    "# Test the calc_length() function here."
   ]
  },
  {
   "cell_type": "markdown",
   "metadata": {},
   "source": [
    "## Part 3\n",
    "\n",
    "Now the code is more reusable, but that one function is doing a few very different things.  Usually, it is best for a function to do one thing, because then it can be reused in even more situations.  For example, maybe sometimes you will get pizza radii from your automatic web crawler software that finds pizza radii on competitor's websites.  In that case, you wouldn't want to ask the program's user to type in a radius, but you still want to use the calculation part of the function.\n",
    "\n",
    "So you want to split the function in Part 2 into two functions: one, `input_radius()`, that asks the user to input a radius, and the other, `calc_side()`, calculates and prints the result for a given radius.  You could then reuse the second function in more situations, like with the web crawler.\n",
    "\n",
    "Now your functions need to pass information into and out of themselves.  The `input_radius()` function needs to *return* the value the user entered, and `calc_side()` needs to take a radius as an argument.\n",
    "\n",
    "### `input_radius()`\n",
    "\n",
    "To have a function return a value, end the function with a return statement:\n",
    "\n",
    "```\n",
    "return <variable or expression>\n",
    "```\n",
    "\n",
    "For example:\n",
    "\n",
    "```python\n",
    "def examplefunc():\n",
    "    x = 12.34\n",
    "    return x\n",
    "```\n",
    "\n",
    "You can then use the return value of the function like you use values produced by `len()`, `int()`, or other functions we've been using that produce results:\n",
    "\n",
    "```python\n",
    "newvar = examplefunc()  # newvar will get the value 12.34 returned by examplefunc()\n",
    "```\n",
    "\n",
    "Write `input_radius()` using a return statement to ask the user to input a radius and return the value they input:"
   ]
  },
  {
   "cell_type": "code",
   "execution_count": null,
   "metadata": {},
   "outputs": [],
   "source": [
    "# Write your input_radius() function here.  Remember to execute the cell to define it."
   ]
  },
  {
   "cell_type": "markdown",
   "metadata": {},
   "source": [
    "The cell below calls input_radius() and prints out the value it gets from it.  Use this cell (unchanged) to test your function defined above."
   ]
  },
  {
   "cell_type": "code",
   "execution_count": null,
   "metadata": {},
   "outputs": [],
   "source": [
    "# Test input_radius()\n",
    "radius = input_radius()\n",
    "print(\"Got the value\", radius, \"from calling input_radius().\")"
   ]
  },
  {
   "cell_type": "markdown",
   "metadata": {},
   "source": [
    "### `calc_side()`\n",
    "\n",
    "Now you can write `calc_side()` separately.  It needs to take a radius as an argument.  That is, we need to be able to provide a radius value to the function when we call it.\n",
    "\n",
    "To define a function that takes an argument, we use *parameters*:\n",
    "\n",
    "```\n",
    "def <function name>(<parameter>):\n",
    "    <body>\n",
    "```\n",
    "\n",
    "By specifying a variable name inside the parentheses of the function definition, that variable is made a \"parameter\" for the function.  When calling the function, a value can be passed into the function as an argument.\n",
    "\n",
    "For example:\n",
    "\n",
    "```python\n",
    "def examplefunc2(param):\n",
    "    x = 12.34 + param\n",
    "    return x\n",
    "```\n",
    "\n",
    "And to call that function with an argument, put a variable or value you want to pass in to the function in between the parentheses in the function call.  Here, we call `examplefunc2()` with the value `43.21` from the variable `before`.  The result calculated by the function is `55.55`:\n",
    "```python\n",
    "before = 43.21\n",
    "after = examplefunc2(before)\n",
    "print(before, after)   # will print \"43.21 55.55\"\n",
    "```"
   ]
  },
  {
   "cell_type": "markdown",
   "metadata": {},
   "source": [
    "Write `calc_side()` using a parameter that lets you specify a radius for a round pizza as an argument when calling the function and that returns the length of a square pizza with equivalent area:"
   ]
  },
  {
   "cell_type": "code",
   "execution_count": null,
   "metadata": {},
   "outputs": [],
   "source": [
    "# Write your calc_side() function here.  Remember to execute the cell to define it."
   ]
  },
  {
   "cell_type": "markdown",
   "metadata": {},
   "source": [
    "The cell below calls `calc_side()` with a few different values to test it."
   ]
  },
  {
   "cell_type": "code",
   "execution_count": null,
   "metadata": {},
   "outputs": [],
   "source": [
    "# Test calc_side()\n",
    "side1 = calc_side(1)\n",
    "side2 = calc_side(2)\n",
    "side3 = calc_side(100)\n",
    "print(side1, side2, side3)  # this should print \"1.7724538509055159 3.5449077018110318 177.2453850905516\""
   ]
  },
  {
   "cell_type": "markdown",
   "metadata": {},
   "source": [
    "## Part 4\n",
    "\n",
    "Now let's put it all together.  Write a program in the cell below that uses `input_radius()` and `calc_side()` (that you've defined above; you *don't* have to write a function again once it is defined somewhere in the notebook) together to accomplish the same thing as Part 1.  The complexity of the program from Part 1 is now reduced to calling two clearly-named functions, *and* each function can be easily reused in different situations."
   ]
  },
  {
   "cell_type": "code",
   "execution_count": null,
   "metadata": {},
   "outputs": [],
   "source": [
    "# Write and test your program (reproducing Part 1 but using the functions you've defined above) here."
   ]
  }
 ],
 "metadata": {
  "kernelspec": {
   "display_name": "Python 3",
   "language": "python",
   "name": "python3"
  },
  "language_info": {
   "codemirror_mode": {
    "name": "ipython",
    "version": 3
   },
   "file_extension": ".py",
   "mimetype": "text/x-python",
   "name": "python",
   "nbconvert_exporter": "python",
   "pygments_lexer": "ipython3",
   "version": "3.6.5"
  }
 },
 "nbformat": 4,
 "nbformat_minor": 2
}
