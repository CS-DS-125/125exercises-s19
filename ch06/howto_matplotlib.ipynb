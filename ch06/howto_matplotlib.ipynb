{
 "cells": [
  {
   "cell_type": "markdown",
   "metadata": {},
   "source": [
    "# Creating Visualizations with Matplotlib"
   ]
  },
  {
   "cell_type": "markdown",
   "metadata": {},
   "source": [
    "Matplotlib is a \"Python 2D plotting library\" for creating a wide range of data visualizations.  It is very powerful, and that means it *can* get complicated.  Here, we will stick to a few specific tools it provides in order to limit the complexity."
   ]
  },
  {
   "cell_type": "markdown",
   "metadata": {},
   "source": [
    "***\n",
    "First, some imports."
   ]
  },
  {
   "cell_type": "markdown",
   "metadata": {},
   "source": [
    "The first imports one *piece* of Matplotlib that we will use and names it `plt`.  This is commonly done to make it faster to type (we'll be using it and thus typing it a lot).  This will be our tool for creating and modifying plots."
   ]
  },
  {
   "cell_type": "code",
   "execution_count": null,
   "metadata": {},
   "outputs": [],
   "source": [
    "import matplotlib.pyplot as plt"
   ]
  },
  {
   "cell_type": "markdown",
   "metadata": {},
   "source": [
    "We'll also run the following line of code to make the charts look a bit nicer than the defaults in Jupyter.  Exactly how these work isn't terribly important, but if you like you can try changing the numbers and regenerate plots below to see the effects."
   ]
  },
  {
   "cell_type": "code",
   "execution_count": null,
   "metadata": {},
   "outputs": [],
   "source": [
    "# For slightly nicer charts\n",
    "plt.rcParams['figure.figsize'] = [10, 5]\n",
    "plt.rcParams['figure.dpi'] = 150"
   ]
  },
  {
   "cell_type": "markdown",
   "metadata": {},
   "source": [
    "Then, just for generating some example data in this notebook, we import our old friend the `random` module from Python's standard library."
   ]
  },
  {
   "cell_type": "code",
   "execution_count": null,
   "metadata": {},
   "outputs": [],
   "source": [
    "import random"
   ]
  },
  {
   "cell_type": "markdown",
   "metadata": {},
   "source": [
    "***\n",
    "\n",
    "## Example data for use in charts\n",
    "\n",
    "The following lists are example data for use in a few demonstration charts."
   ]
  },
  {
   "cell_type": "code",
   "execution_count": null,
   "metadata": {},
   "outputs": [],
   "source": [
    "categories = ['dogs', 'cats', 'narwhals', 'cows', 'koalas']\n",
    "\n",
    "years = ['2012', '2013', '2014', '2015', '2016']\n",
    "\n",
    "values = [4, 8, 16, 32, 64]\n",
    "\n",
    "# Randomly choose 5 values from 0 to 99:\n",
    "values_rand = random.sample(range(100), 5)\n",
    "\n",
    "# Make two lists, each with 1000 elements sampled from a\n",
    "# random gaussian distribution (aka \"normal\" distribution) centered on 50:\n",
    "values_rand_long = []\n",
    "values_rand_long_2 = []\n",
    "for i in range(1000):\n",
    "    values_rand_long.append(random.gauss(50, 50))\n",
    "    values_rand_long_2.append(random.gauss(50, 50))"
   ]
  },
  {
   "cell_type": "markdown",
   "metadata": {},
   "source": [
    "***\n",
    "## Line chart\n",
    "\n",
    "First, we will use Matplotlib (via the `plt` name we made above when we imported it) to make a line chart.\n",
    "\n",
    "Note that every line in the following cell is using **dot notation** to call a **method** in the `plt` **object**.\n",
    "\n",
    "The methods used here are:\n",
    " - `plt.plot()` - Add a \"data series\" (one line) to the chart, given as two arguments: a list of x values and a list of y values of the same length.  Call this multiple times to add multiple data series.\n",
    " - `plt.xlabel()` - Add a label to the x-axis.\n",
    " - `plt.ylabel()` - Add a label to the y-axis.\n",
    " - `plt.legend()` - Add a legend to the chart.  The argument should be a list of strings, with one string for each data series to give it a label.\n",
    " - `plt.title()` - Add a title to the chart.\n",
    " - `plt.show()` - Show (display) the chart that has been generated at this point."
   ]
  },
  {
   "cell_type": "code",
   "execution_count": null,
   "metadata": {},
   "outputs": [],
   "source": [
    "plt.plot(years, values)\n",
    "plt.plot(years, values_rand)\n",
    "plt.xlabel(\"Year\")\n",
    "plt.ylabel(\"Value\")\n",
    "plt.legend([\"Values\", \"Random Values\"])\n",
    "plt.title('A line chart')\n",
    "plt.show()"
   ]
  },
  {
   "cell_type": "markdown",
   "metadata": {},
   "source": [
    "***\n",
    "## Bar chart\n",
    "\n",
    "Next is the bar chart.  Here, we use `plt.bar()` instead of `plt.plot()`, and for clarity, we have specified the names of its two arguments, writing them as ``x=[...]`` and ``height=[...]``.  You can leave off the ``x=`` and ``height=`` parts, and it will still work, but it often is easier to read and understand when the names are explicitly written like this.\n",
    "\n",
    "The methods `plt.xlabel()`, `plt.ylabel()`, `plt.title()`, and `plt.show()` are used again here."
   ]
  },
  {
   "cell_type": "code",
   "execution_count": null,
   "metadata": {},
   "outputs": [],
   "source": [
    "plt.bar(x=categories, height=values_rand)\n",
    "plt.xlabel(\"Animals\")\n",
    "plt.ylabel(\"Value\")\n",
    "plt.title(\"A bar chart\")\n",
    "plt.show()"
   ]
  },
  {
   "cell_type": "markdown",
   "metadata": {},
   "source": [
    "Or, we can create a *horizontal* bar chart.  This might work better for visualizing some data sets.\n",
    "\n",
    "Note that we've changed `plt.bar()` to `plt.barh()`, which takes `y` and `width` arguments instead of `x` and `height`.  We also swapped the x- and y-axis labels."
   ]
  },
  {
   "cell_type": "code",
   "execution_count": null,
   "metadata": {},
   "outputs": [],
   "source": [
    "plt.barh(y=categories, width=values_rand)\n",
    "plt.xlabel(\"Value\")\n",
    "plt.ylabel(\"Animals\")\n",
    "plt.title(\"A horizontal bar chart\")\n",
    "plt.show()"
   ]
  },
  {
   "cell_type": "markdown",
   "metadata": {},
   "source": [
    "***\n",
    "## Histogram\n",
    "\n",
    "Matplotlib can make a histogram from any list of numbers.  We'll use the long list of random values generated before, `values_rand_long`.\n",
    "\n",
    "We use the `plt.hist()` method here, which can take a list of numbers as its argument `x`.  It will automatically create \"bins\" and count the number of values that fall in each bin to create the plot."
   ]
  },
  {
   "cell_type": "code",
   "execution_count": null,
   "metadata": {},
   "outputs": [],
   "source": [
    "plt.hist(x=values_rand_long)\n",
    "plt.xlabel(\"Values\")\n",
    "plt.ylabel(\"Frequency\")\n",
    "plt.title(\"A histogram\")\n",
    "plt.show()"
   ]
  },
  {
   "cell_type": "markdown",
   "metadata": {},
   "source": [
    "We can control the number of bins using the `bins=` argument to the `plt.hist()` method:"
   ]
  },
  {
   "cell_type": "code",
   "execution_count": null,
   "metadata": {},
   "outputs": [],
   "source": [
    "plt.hist(x=values_rand_long, bins=50)\n",
    "plt.xlabel(\"Values\")\n",
    "plt.ylabel(\"Frequency\")\n",
    "plt.title(\"A histogram with more bins\")\n",
    "plt.show()"
   ]
  },
  {
   "cell_type": "markdown",
   "metadata": {},
   "source": [
    "***\n",
    "## Scatter plot\n",
    "\n",
    "To create a scatter plot, we use the `plt.scatter()` method and provide lists for its `x` and `y` arguments containing the x and y values, respectively, for each point in the chart:"
   ]
  },
  {
   "cell_type": "code",
   "execution_count": null,
   "metadata": {},
   "outputs": [],
   "source": [
    "plt.scatter(x=values_rand_long, y=values_rand_long_2)\n",
    "plt.xlabel(\"Values 1\")\n",
    "plt.ylabel(\"Values 2\")\n",
    "plt.title(\"A scatter plot\")\n",
    "plt.show()"
   ]
  },
  {
   "cell_type": "markdown",
   "metadata": {},
   "source": [
    "We might want to make the individual markers somewhat transparent to better see what is going on in a region with a lot of overlapping markers.  The `alpha=0.25` argument makes each marker 25% opaque (thus 75% transparent).  It can range from 0.0 (fully transparent) to 1.0 (fully opaque)."
   ]
  },
  {
   "cell_type": "code",
   "execution_count": null,
   "metadata": {},
   "outputs": [],
   "source": [
    "plt.scatter(x=values_rand_long, y=values_rand_long_2, alpha=0.25)\n",
    "plt.xlabel(\"Values 1\")\n",
    "plt.ylabel(\"Values 2\")\n",
    "plt.title(\"A scatter plot with semi-transparent markers\")\n",
    "plt.show()"
   ]
  }
 ],
 "metadata": {
  "kernelspec": {
   "display_name": "Python 3",
   "language": "python",
   "name": "python3"
  },
  "language_info": {
   "codemirror_mode": {
    "name": "ipython",
    "version": 3
   },
   "file_extension": ".py",
   "mimetype": "text/x-python",
   "name": "python",
   "nbconvert_exporter": "python",
   "pygments_lexer": "ipython3",
   "version": "3.6.5"
  }
 },
 "nbformat": 4,
 "nbformat_minor": 2
}
